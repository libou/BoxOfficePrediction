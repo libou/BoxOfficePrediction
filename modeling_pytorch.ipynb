{
 "cells": [
  {
   "cell_type": "code",
   "execution_count": 1,
   "metadata": {},
   "outputs": [],
   "source": [
    "import torch.nn as nn\n",
    "import pandas as pd\n",
    "import numpy as np\n",
    "import torchvision.transforms as transforms\n",
    "import torch.cuda\n",
    "import torch.optim\n",
    "from sklearn.preprocessing import MinMaxScaler"
   ]
  },
  {
   "cell_type": "code",
   "execution_count": 2,
   "metadata": {},
   "outputs": [],
   "source": [
    "if torch.cuda.is_available():\n",
    "    device = torch.device('cuda')\n",
    "else:\n",
    "    device = torch.device('cpu')"
   ]
  },
  {
   "cell_type": "code",
   "execution_count": 4,
   "metadata": {},
   "outputs": [],
   "source": [
    "trainset = pd.read_csv('trainset.csv', index_col=0)\n",
    "testset = pd.read_csv('testset.csv', index_col=0)\n",
    "\n",
    "header = list(trainset)\n",
    "\n",
    "y_train = trainset['gross']\n",
    "y_test = testset['gross']\n",
    "# header.remove('gross')\n",
    "header.remove('vote')\n",
    "header.remove('metascore')\n",
    "header.remove('imdb')\n",
    "header.remove('movie')\n",
    "# header.remove('day')\n",
    "# header.remove('month')\n",
    "X_train = trainset.loc[:, header]\n",
    "X_test = testset.loc[:, header]\n",
    "X_train = X_train.astype('float32') \n",
    "X_test = X_test.astype('float32')\n",
    "y_train = y_train.astype('float32')\n",
    "y_test = y_test.astype('float32')\n",
    "\n",
    "num_features = X_train.shape[1]\n",
    "\n",
    "normalizer = MinMaxScaler()\n",
    "normalizer.fit(X_train)\n",
    "X_train = normalizer.transform(X_train)\n",
    "\n",
    "\n",
    "X = torch.from_numpy(X_train)\n",
    "y = torch.tensor(y_train.values)"
   ]
  },
  {
   "cell_type": "code",
   "execution_count": 23,
   "metadata": {},
   "outputs": [
    {
     "data": {
      "text/plain": [
       "torch.Size([4165, 183])"
      ]
     },
     "execution_count": 23,
     "metadata": {},
     "output_type": "execute_result"
    }
   ],
   "source": [
    "X.shape"
   ]
  },
  {
   "cell_type": "code",
   "execution_count": 44,
   "metadata": {},
   "outputs": [],
   "source": [
    "model = nn.Sequential(\n",
    "    nn.Linear(num_features, 512),\n",
    "    nn.ReLU(),\n",
    "    nn.Linear(512, 256),\n",
    "    nn.ReLU(),\n",
    "    nn.Linear(256, 128),\n",
    "    nn.ReLU(),\n",
    "    nn.Linear(128, 64),\n",
    "    nn.ReLU(),\n",
    "    nn.Linear(64, 32),\n",
    "    nn.ReLU(),\n",
    "    nn.Linear(32, 1)\n",
    ")"
   ]
  },
  {
   "cell_type": "code",
   "execution_count": 50,
   "metadata": {},
   "outputs": [],
   "source": [
    "max_epoch = 5000\n",
    "learning_rate = 1e-4\n",
    "\n",
    "criterion = nn.MSELoss()\n",
    "optimizer = torch.optim.Adam(model.parameters(), lr=learning_rate)"
   ]
  },
  {
   "cell_type": "code",
   "execution_count": 51,
   "metadata": {},
   "outputs": [
    {
     "name": "stdout",
     "output_type": "stream",
     "text": [
      "Epoch:0, Loss:3032130409988096.0000\n",
      "Epoch:100, Loss:3032129873117184.0000\n",
      "Epoch:200, Loss:3032129604681728.0000\n",
      "Epoch:300, Loss:3032129067810816.0000\n",
      "Epoch:400, Loss:3032128799375360.0000\n",
      "Epoch:500, Loss:3032128262504448.0000\n",
      "Epoch:600, Loss:3032127725633536.0000\n",
      "Epoch:700, Loss:3032127457198080.0000\n",
      "Epoch:800, Loss:3032127188762624.0000\n",
      "Epoch:900, Loss:3032126920327168.0000\n",
      "Epoch:1000, Loss:3032126651891712.0000\n",
      "Epoch:1100, Loss:3032126115020800.0000\n",
      "Epoch:1200, Loss:3032125846585344.0000\n",
      "Epoch:1300, Loss:3032125578149888.0000\n",
      "Epoch:1400, Loss:3032125041278976.0000\n",
      "Epoch:1500, Loss:3032125041278976.0000\n",
      "Epoch:1600, Loss:3032124504408064.0000\n",
      "Epoch:1700, Loss:3032124504408064.0000\n",
      "Epoch:1800, Loss:3032124235972608.0000\n",
      "Epoch:1900, Loss:3032123699101696.0000\n",
      "Epoch:2000, Loss:3032123699101696.0000\n",
      "Epoch:2100, Loss:3032123699101696.0000\n",
      "Epoch:2200, Loss:3032123162230784.0000\n",
      "Epoch:2300, Loss:3032123162230784.0000\n",
      "Epoch:2400, Loss:3032122893795328.0000\n",
      "Epoch:2500, Loss:3032122356924416.0000\n",
      "Epoch:2600, Loss:3032122356924416.0000\n",
      "Epoch:2700, Loss:3032122088488960.0000\n",
      "Epoch:2800, Loss:3032122088488960.0000\n",
      "Epoch:2900, Loss:3032122088488960.0000\n",
      "Epoch:3000, Loss:3032121820053504.0000\n",
      "Epoch:3100, Loss:3032122088488960.0000\n",
      "Epoch:3200, Loss:3032121551618048.0000\n",
      "Epoch:3300, Loss:3032121551618048.0000\n",
      "Epoch:3400, Loss:3032121283182592.0000\n",
      "Epoch:3500, Loss:3032121283182592.0000\n",
      "Epoch:3600, Loss:3032121551618048.0000\n",
      "Epoch:3700, Loss:3032120746311680.0000\n",
      "Epoch:3800, Loss:3032120746311680.0000\n",
      "Epoch:3900, Loss:3032120746311680.0000\n",
      "Epoch:4000, Loss:3032120477876224.0000\n",
      "Epoch:4100, Loss:3032120477876224.0000\n",
      "Epoch:4200, Loss:3032120477876224.0000\n",
      "Epoch:4300, Loss:3032120209440768.0000\n",
      "Epoch:4400, Loss:3032120209440768.0000\n",
      "Epoch:4500, Loss:3032120209440768.0000\n",
      "Epoch:4600, Loss:3032120209440768.0000\n",
      "Epoch:4700, Loss:3032119941005312.0000\n",
      "Epoch:4800, Loss:3032119941005312.0000\n",
      "Epoch:4900, Loss:3032119941005312.0000\n"
     ]
    }
   ],
   "source": [
    "# Training\n",
    "model = model.to(device)\n",
    "X = X.to(device)\n",
    "y = y.to(device)\n",
    "\n",
    "for epoch in range(max_epoch):\n",
    "    optimizer.zero_grad()\n",
    "    \n",
    "    y_pred = model(X)\n",
    "    loss = criterion(y_pred, y)\n",
    "    if epoch % 100 == 0:\n",
    "        print(\"Epoch:{}, Loss:{:.4f}\".format(epoch, loss.item()))\n",
    " \n",
    "    loss.backward()\n",
    " \n",
    "    optimizer.step()"
   ]
  },
  {
   "cell_type": "code",
   "execution_count": 47,
   "metadata": {},
   "outputs": [
    {
     "name": "stdout",
     "output_type": "stream",
     "text": [
      "tensor([[20327150.],\n",
      "        [20403086.],\n",
      "        [20314036.],\n",
      "        ...,\n",
      "        [20359386.],\n",
      "        [20309196.],\n",
      "        [20322600.]], device='cuda:0', grad_fn=<AddmmBackward>)\n"
     ]
    }
   ],
   "source": [
    "print(model(X))"
   ]
  },
  {
   "cell_type": "code",
   "execution_count": null,
   "metadata": {},
   "outputs": [],
   "source": []
  }
 ],
 "metadata": {
  "kernelspec": {
   "display_name": "Python 3",
   "language": "python",
   "name": "python3"
  },
  "language_info": {
   "codemirror_mode": {
    "name": "ipython",
    "version": 3
   },
   "file_extension": ".py",
   "mimetype": "text/x-python",
   "name": "python",
   "nbconvert_exporter": "python",
   "pygments_lexer": "ipython3",
   "version": "3.7.6"
  }
 },
 "nbformat": 4,
 "nbformat_minor": 4
}
