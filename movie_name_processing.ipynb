{
 "cells": [
  {
   "cell_type": "code",
   "execution_count": 1,
   "metadata": {},
   "outputs": [],
   "source": [
    "import re\n",
    "import pandas as pd"
   ]
  },
  {
   "cell_type": "code",
   "execution_count": 4,
   "metadata": {},
   "outputs": [],
   "source": [
    "def _num_switch(value):\n",
    "    matched = value.group()\n",
    "    if matched == 'I': return '1'\n",
    "    if matched == 'II': return '2'\n",
    "    if matched == 'III': return '3'\n",
    "    if matched == 'IV': return '4'\n",
    "    if matched == 'V': return '5'\n",
    "    if matched == 'VI': return '6'\n",
    "    if matched == 'VII': return '7'\n",
    "    if matched == 'VIII': return '8'\n",
    "    if matched == 'IX': return '9'\n",
    "    if matched == 'X': return '10'\n",
    "    if matched == 'XI': return '11'\n",
    "\n",
    "num_switch = re.compile(r\"\\bI{1,3}$|\\bI?VI{0,3}$|\\bI?XI{0,3}$\")\n",
    "pattern = re.compile(\"[\\s'\\-!?\\.]+|\")\n",
    "\n",
    "for year in range(2008, 2020):\n",
    "    df = pd.read_csv('data/IMDB_movie_detail_{}.csv'.format(year))\n",
    "    result = []\n",
    "    for idx, name in df['movie'].iteritems():\n",
    "        new_name = num_switch.sub(_num_switch, name)\n",
    "        new_name = pattern.sub('', new_name)\n",
    "        new_name = new_name.split(':')\n",
    "        if len(new_name) > 1:\n",
    "            new_name.append(''.join(new_name))\n",
    "        result.append(new_name)\n",
    "    df['extracted_name'] = result\n",
    "    df.to_csv('data/IMDB_movie_detail_{}.csv'.format(year), header=True, encoding='utf_8_sig')"
   ]
  },
  {
   "cell_type": "code",
   "execution_count": null,
   "metadata": {},
   "outputs": [],
   "source": []
  }
 ],
 "metadata": {
  "file_extension": ".py",
  "kernelspec": {
   "display_name": "Python 3.7.6 64-bit",
   "language": "python",
   "name": "python37664bit874b9aa27f3b446ba8d9fab8b6cfda1a"
  },
  "language_info": {
   "codemirror_mode": {
    "name": "ipython",
    "version": 3
   },
   "file_extension": ".py",
   "mimetype": "text/x-python",
   "name": "python",
   "nbconvert_exporter": "python",
   "pygments_lexer": "ipython3",
   "version": "3.7.6"
  },
  "mimetype": "text/x-python",
  "name": "python",
  "npconvert_exporter": "python",
  "pygments_lexer": "ipython3",
  "version": 3
 },
 "nbformat": 4,
 "nbformat_minor": 2
}
