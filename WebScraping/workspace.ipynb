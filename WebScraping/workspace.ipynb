{
 "nbformat": 4,
 "nbformat_minor": 2,
 "metadata": {
  "language_info": {
   "name": "python",
   "codemirror_mode": {
    "name": "ipython",
    "version": 3
   },
   "version": "3.7.6-final"
  },
  "orig_nbformat": 2,
  "file_extension": ".py",
  "mimetype": "text/x-python",
  "name": "python",
  "npconvert_exporter": "python",
  "pygments_lexer": "ipython3",
  "version": 3,
  "kernelspec": {
   "name": "python37664bit874b9aa27f3b446ba8d9fab8b6cfda1a",
   "display_name": "Python 3.7.6 64-bit"
  }
 },
 "cells": [
  {
   "cell_type": "code",
   "execution_count": 2,
   "metadata": {},
   "outputs": [
    {
     "output_type": "execute_result",
     "data": {
      "text/plain": "   Unnamed: 0                                       movie  ...   metascore    vote\n0           0  Star Wars: Episode VII - The Force Awakens  ...  81          828134\n1           1                          Mad Max: Fury Road  ...  90          823018\n2           2                                 The Martian  ...  80          716858\n3           3                     Avengers: Age of Ultron  ...  66          701951\n4           4                                The Revenant  ...  76          660307\n\n[5 rows x 13 columns]",
      "text/html": "<div>\n<style scoped>\n    .dataframe tbody tr th:only-of-type {\n        vertical-align: middle;\n    }\n\n    .dataframe tbody tr th {\n        vertical-align: top;\n    }\n\n    .dataframe thead th {\n        text-align: right;\n    }\n</style>\n<table border=\"1\" class=\"dataframe\">\n  <thead>\n    <tr style=\"text-align: right;\">\n      <th></th>\n      <th>Unnamed: 0</th>\n      <th>movie</th>\n      <th>year</th>\n      <th>content rating</th>\n      <th>runtime</th>\n      <th>genre</th>\n      <th>intro</th>\n      <th>director</th>\n      <th>stars</th>\n      <th>imdb</th>\n      <th>gross</th>\n      <th>metascore</th>\n      <th>vote</th>\n    </tr>\n  </thead>\n  <tbody>\n    <tr>\n      <th>0</th>\n      <td>0</td>\n      <td>Star Wars: Episode VII - The Force Awakens</td>\n      <td>(2015)</td>\n      <td>PG</td>\n      <td>138 min</td>\n      <td>\\nAction, Adventure, Sci-Fi</td>\n      <td>\\n    Three decades after the Empire's defeat,...</td>\n      <td>J.J. Abrams</td>\n      <td>['Daisy Ridley', 'John Boyega', 'Oscar Isaac',...</td>\n      <td>7.9</td>\n      <td>936,662,225</td>\n      <td>81</td>\n      <td>828134</td>\n    </tr>\n    <tr>\n      <th>1</th>\n      <td>1</td>\n      <td>Mad Max: Fury Road</td>\n      <td>(2015)</td>\n      <td>14A</td>\n      <td>120 min</td>\n      <td>\\nAction, Adventure, Sci-Fi</td>\n      <td>\\n    In a post-apocalyptic wasteland, a woman...</td>\n      <td>George Miller</td>\n      <td>['Tom Hardy', 'Charlize Theron', 'Nicholas Hou...</td>\n      <td>8.1</td>\n      <td>154,058,340</td>\n      <td>90</td>\n      <td>823018</td>\n    </tr>\n    <tr>\n      <th>2</th>\n      <td>2</td>\n      <td>The Martian</td>\n      <td>(2015)</td>\n      <td>PG</td>\n      <td>144 min</td>\n      <td>\\nAdventure, Drama, Sci-Fi</td>\n      <td>\\n    An astronaut becomes stranded on Mars af...</td>\n      <td>Ridley Scott</td>\n      <td>['Matt Damon', 'Jessica Chastain', 'Kristen Wi...</td>\n      <td>8.0</td>\n      <td>228,433,663</td>\n      <td>80</td>\n      <td>716858</td>\n    </tr>\n    <tr>\n      <th>3</th>\n      <td>3</td>\n      <td>Avengers: Age of Ultron</td>\n      <td>(2015)</td>\n      <td>PG</td>\n      <td>141 min</td>\n      <td>\\nAction, Adventure, Sci-Fi</td>\n      <td>\\n    When Tony Stark and Bruce Banner try to ...</td>\n      <td>Joss Whedon</td>\n      <td>['Robert Downey Jr.', 'Chris Evans', 'Mark Ruf...</td>\n      <td>7.3</td>\n      <td>459,005,868</td>\n      <td>66</td>\n      <td>701951</td>\n    </tr>\n    <tr>\n      <th>4</th>\n      <td>4</td>\n      <td>The Revenant</td>\n      <td>(2015)</td>\n      <td>14A</td>\n      <td>156 min</td>\n      <td>\\nAction, Adventure, Biography</td>\n      <td>\\n    A frontiersman on a fur trading expediti...</td>\n      <td>Alejandro G. Iñárritu</td>\n      <td>['Leonardo DiCaprio', 'Tom Hardy', 'Will Poult...</td>\n      <td>8.0</td>\n      <td>183,637,894</td>\n      <td>76</td>\n      <td>660307</td>\n    </tr>\n  </tbody>\n</table>\n</div>"
     },
     "metadata": {},
     "execution_count": 2
    }
   ],
   "source": [
    "import pandas as pd\n",
    "\n",
    "df = pd.read_csv('IMDB_Top10000.csv')\n",
    "df.head(5)"
   ]
  },
  {
   "cell_type": "code",
   "execution_count": null,
   "metadata": {},
   "outputs": [],
   "source": []
  }
 ]
}