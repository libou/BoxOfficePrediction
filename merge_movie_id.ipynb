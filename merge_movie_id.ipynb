{
 "cells": [
  {
   "cell_type": "code",
   "execution_count": 1,
   "metadata": {},
   "outputs": [],
   "source": [
    "import pandas as pd"
   ]
  },
  {
   "cell_type": "code",
   "execution_count": 2,
   "metadata": {},
   "outputs": [],
   "source": [
    "years = range(2008, 2020)\n",
    "for year in years:\n",
    "    df = pd.read_csv('data/merged_data/merged_{}.csv'.format(year))\n",
    "    df_id = pd.read_csv('data/raw_data/IMDB_ID_{}.csv'.format(year))\n",
    "    merged_df = df.merge(df_id, on='movie', how='outer')\n",
    "    merged_df.to_csv('merged_{}.csv'.format(year), header=True, encoding='utf-8-sig')"
   ]
  },
  {
   "cell_type": "code",
   "execution_count": null,
   "metadata": {},
   "outputs": [],
   "source": []
  }
 ],
 "metadata": {
  "kernelspec": {
   "display_name": "Python 3.7.6 64-bit",
   "language": "python",
   "name": "python37664bit874b9aa27f3b446ba8d9fab8b6cfda1a"
  },
  "language_info": {
   "codemirror_mode": {
    "name": "ipython",
    "version": 3
   },
   "file_extension": ".py",
   "mimetype": "text/x-python",
   "name": "python",
   "nbconvert_exporter": "python",
   "pygments_lexer": "ipython3",
   "version": "3.7.6"
  }
 },
 "nbformat": 4,
 "nbformat_minor": 4
}
