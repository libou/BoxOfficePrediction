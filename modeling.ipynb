{
 "cells": [
  {
   "cell_type": "code",
   "execution_count": 43,
   "metadata": {},
   "outputs": [],
   "source": [
    "import pandas as pd\n",
    "import numpy as np\n",
    "from sklearn.model_selection import train_test_split\n",
    "from sklearn.ensemble import RandomForestRegressor\n",
    "from sklearn.metrics import mean_squared_error\n",
    "from sklearn.neural_network import MLPRegressor\n",
    "from sklearn.preprocessing import StandardScaler\n",
    "from sklearn.preprocessing import MinMaxScaler\n",
    "from sklearn.metrics import r2_score\n",
    "from matplotlib import pyplot as plt\n",
    "from xgboost.sklearn import XGBRegressor\n",
    "from sklearn.model_selection import GridSearchCV, cross_val_score\n",
    "from lightgbm import LGBMRegressor\n",
    "from catboost import CatBoostRegressor\n",
    "import seaborn as sns\n",
    "from sklearn.model_selection import KFold"
   ]
  },
  {
   "cell_type": "code",
   "execution_count": 447,
   "metadata": {},
   "outputs": [],
   "source": [
    "%matplotlib inline\n",
    "from IPython.core.interactiveshell import InteractiveShell \n",
    "InteractiveShell.ast_node_interactivity = 'all'\n",
    "\n",
    "\n",
    "trainset = pd.read_csv('trainset.csv', index_col=0)\n",
    "testset = pd.read_csv('testset.csv', index_col=0)"
   ]
  },
  {
   "cell_type": "code",
   "execution_count": 463,
   "metadata": {},
   "outputs": [
    {
     "data": {
      "text/html": [
       "<div>\n",
       "<style scoped>\n",
       "    .dataframe tbody tr th:only-of-type {\n",
       "        vertical-align: middle;\n",
       "    }\n",
       "\n",
       "    .dataframe tbody tr th {\n",
       "        vertical-align: top;\n",
       "    }\n",
       "\n",
       "    .dataframe thead th {\n",
       "        text-align: right;\n",
       "    }\n",
       "</style>\n",
       "<table border=\"1\" class=\"dataframe\">\n",
       "  <thead>\n",
       "    <tr style=\"text-align: right;\">\n",
       "      <th></th>\n",
       "      <th>movie</th>\n",
       "      <th>year</th>\n",
       "      <th>runtime</th>\n",
       "      <th>director</th>\n",
       "      <th>stars</th>\n",
       "      <th>imdb</th>\n",
       "      <th>gross</th>\n",
       "      <th>metascore</th>\n",
       "      <th>vote</th>\n",
       "      <th>budget</th>\n",
       "      <th>...</th>\n",
       "      <th>stars_20</th>\n",
       "      <th>stars_21</th>\n",
       "      <th>stars_22</th>\n",
       "      <th>stars_23</th>\n",
       "      <th>stars_24</th>\n",
       "      <th>stars_25</th>\n",
       "      <th>stars_26</th>\n",
       "      <th>stars_27</th>\n",
       "      <th>stars_28</th>\n",
       "      <th>stars_29</th>\n",
       "    </tr>\n",
       "  </thead>\n",
       "  <tbody>\n",
       "    <tr>\n",
       "      <th>2198</th>\n",
       "      <td>Room 237</td>\n",
       "      <td>2012.0</td>\n",
       "      <td>102.0</td>\n",
       "      <td>0</td>\n",
       "      <td>0</td>\n",
       "      <td>6.2</td>\n",
       "      <td>259765</td>\n",
       "      <td>80.000000</td>\n",
       "      <td>20264</td>\n",
       "      <td>0.0</td>\n",
       "      <td>...</td>\n",
       "      <td>0</td>\n",
       "      <td>0</td>\n",
       "      <td>0</td>\n",
       "      <td>0</td>\n",
       "      <td>0</td>\n",
       "      <td>0</td>\n",
       "      <td>0</td>\n",
       "      <td>0</td>\n",
       "      <td>0</td>\n",
       "      <td>0</td>\n",
       "    </tr>\n",
       "    <tr>\n",
       "      <th>5388</th>\n",
       "      <td>Little Italy</td>\n",
       "      <td>2018.0</td>\n",
       "      <td>102.0</td>\n",
       "      <td>0</td>\n",
       "      <td>0</td>\n",
       "      <td>5.7</td>\n",
       "      <td>990230</td>\n",
       "      <td>28.000000</td>\n",
       "      <td>8254</td>\n",
       "      <td>0.0</td>\n",
       "      <td>...</td>\n",
       "      <td>0</td>\n",
       "      <td>0</td>\n",
       "      <td>0</td>\n",
       "      <td>0</td>\n",
       "      <td>0</td>\n",
       "      <td>0</td>\n",
       "      <td>0</td>\n",
       "      <td>0</td>\n",
       "      <td>0</td>\n",
       "      <td>0</td>\n",
       "    </tr>\n",
       "    <tr>\n",
       "      <th>2346</th>\n",
       "      <td>Heroine</td>\n",
       "      <td>2012.0</td>\n",
       "      <td>149.0</td>\n",
       "      <td>0</td>\n",
       "      <td>0</td>\n",
       "      <td>5.1</td>\n",
       "      <td>593344</td>\n",
       "      <td>58.788051</td>\n",
       "      <td>3822</td>\n",
       "      <td>0.0</td>\n",
       "      <td>...</td>\n",
       "      <td>0</td>\n",
       "      <td>0</td>\n",
       "      <td>0</td>\n",
       "      <td>0</td>\n",
       "      <td>0</td>\n",
       "      <td>0</td>\n",
       "      <td>0</td>\n",
       "      <td>0</td>\n",
       "      <td>0</td>\n",
       "      <td>0</td>\n",
       "    </tr>\n",
       "    <tr>\n",
       "      <th>3100</th>\n",
       "      <td>Interstellar</td>\n",
       "      <td>2014.0</td>\n",
       "      <td>169.0</td>\n",
       "      <td>1</td>\n",
       "      <td>1</td>\n",
       "      <td>8.6</td>\n",
       "      <td>188020017</td>\n",
       "      <td>74.000000</td>\n",
       "      <td>1388882</td>\n",
       "      <td>165000000.0</td>\n",
       "      <td>...</td>\n",
       "      <td>0</td>\n",
       "      <td>0</td>\n",
       "      <td>0</td>\n",
       "      <td>0</td>\n",
       "      <td>0</td>\n",
       "      <td>0</td>\n",
       "      <td>0</td>\n",
       "      <td>0</td>\n",
       "      <td>0</td>\n",
       "      <td>0</td>\n",
       "    </tr>\n",
       "    <tr>\n",
       "      <th>3406</th>\n",
       "      <td>The Single Moms Club</td>\n",
       "      <td>2014.0</td>\n",
       "      <td>111.0</td>\n",
       "      <td>1</td>\n",
       "      <td>0</td>\n",
       "      <td>5.3</td>\n",
       "      <td>15986272</td>\n",
       "      <td>31.000000</td>\n",
       "      <td>5585</td>\n",
       "      <td>8000000.0</td>\n",
       "      <td>...</td>\n",
       "      <td>0</td>\n",
       "      <td>0</td>\n",
       "      <td>0</td>\n",
       "      <td>0</td>\n",
       "      <td>0</td>\n",
       "      <td>0</td>\n",
       "      <td>0</td>\n",
       "      <td>0</td>\n",
       "      <td>0</td>\n",
       "      <td>0</td>\n",
       "    </tr>\n",
       "  </tbody>\n",
       "</table>\n",
       "<p>5 rows × 187 columns</p>\n",
       "</div>"
      ],
      "text/plain": [
       "                     movie    year  runtime  director  stars  imdb      gross  \\\n",
       "2198              Room 237  2012.0    102.0         0      0   6.2     259765   \n",
       "5388          Little Italy  2018.0    102.0         0      0   5.7     990230   \n",
       "2346               Heroine  2012.0    149.0         0      0   5.1     593344   \n",
       "3100          Interstellar  2014.0    169.0         1      1   8.6  188020017   \n",
       "3406  The Single Moms Club  2014.0    111.0         1      0   5.3   15986272   \n",
       "\n",
       "      metascore     vote       budget  ...  stars_20  stars_21  stars_22  \\\n",
       "2198  80.000000    20264          0.0  ...         0         0         0   \n",
       "5388  28.000000     8254          0.0  ...         0         0         0   \n",
       "2346  58.788051     3822          0.0  ...         0         0         0   \n",
       "3100  74.000000  1388882  165000000.0  ...         0         0         0   \n",
       "3406  31.000000     5585    8000000.0  ...         0         0         0   \n",
       "\n",
       "      stars_23  stars_24  stars_25  stars_26  stars_27  stars_28  stars_29  \n",
       "2198         0         0         0         0         0         0         0  \n",
       "5388         0         0         0         0         0         0         0  \n",
       "2346         0         0         0         0         0         0         0  \n",
       "3100         0         0         0         0         0         0         0  \n",
       "3406         0         0         0         0         0         0         0  \n",
       "\n",
       "[5 rows x 187 columns]"
      ]
     },
     "execution_count": 463,
     "metadata": {},
     "output_type": "execute_result"
    }
   ],
   "source": [
    "trainset.head(5)"
   ]
  },
  {
   "cell_type": "code",
   "execution_count": 449,
   "metadata": {},
   "outputs": [],
   "source": [
    "header = list(trainset)\n",
    "y_train = trainset['gross']\n",
    "y_test = testset['gross']\n",
    "\n",
    "header.remove('gross')\n",
    "header.remove('metascore')\n",
    "header.remove('imdb')\n",
    "header.remove('vote')\n",
    "# header.remove('budget')\n",
    "# header.remove('day')\n",
    "# header.remove('month')\n",
    "\n",
    "X_train = trainset.loc[:, header[1:]]\n",
    "X_test = testset.loc[:, header[1:]]"
   ]
  },
  {
   "cell_type": "code",
   "execution_count": 450,
   "metadata": {},
   "outputs": [
    {
     "name": "stdout",
     "output_type": "stream",
     "text": [
      "(4165, 182)\n",
      "(1785, 182)\n"
     ]
    }
   ],
   "source": [
    "print(X_train.shape)\n",
    "print(X_test.shape)"
   ]
  },
  {
   "cell_type": "code",
   "execution_count": 452,
   "metadata": {},
   "outputs": [
    {
     "data": {
      "text/plain": [
       "XGBRegressor(base_score=0.5, booster=None, colsample_bylevel=1,\n",
       "             colsample_bynode=1, colsample_bytree=1, gamma=0, gpu_id=-1,\n",
       "             importance_type='gain', interaction_constraints=None,\n",
       "             learning_rate=0.300000012, max_delta_step=0, max_depth=6,\n",
       "             min_child_weight=1, missing=nan, monotone_constraints=None,\n",
       "             n_estimators=100, n_jobs=0, num_parallel_tree=1,\n",
       "             objective='reg:squarederror', random_state=0, reg_alpha=0,\n",
       "             reg_lambda=1, scale_pos_weight=1, subsample=1, tree_method=None,\n",
       "             validate_parameters=False, verbosity=None)"
      ]
     },
     "execution_count": 452,
     "metadata": {},
     "output_type": "execute_result"
    },
    {
     "name": "stdout",
     "output_type": "stream",
     "text": [
      "r2_score: 0.7603274857971023\n"
     ]
    }
   ],
   "source": [
    "model = XGBRegressor()\n",
    "model.fit(X_train, y_train)\n",
    "prediction = model.predict(X_test)\n",
    "\n",
    "result=pd.DataFrame({'movie':testset['movie'] , 'label': y_test, 'prediction': [max(0,x) for x in prediction]})\n",
    "r2 = r2_score(y_test, prediction)\n",
    "print('r2_score: {}'.format(r2))"
   ]
  },
  {
   "cell_type": "code",
   "execution_count": 453,
   "metadata": {},
   "outputs": [
    {
     "data": {
      "text/html": [
       "<div>\n",
       "<style scoped>\n",
       "    .dataframe tbody tr th:only-of-type {\n",
       "        vertical-align: middle;\n",
       "    }\n",
       "\n",
       "    .dataframe tbody tr th {\n",
       "        vertical-align: top;\n",
       "    }\n",
       "\n",
       "    .dataframe thead th {\n",
       "        text-align: right;\n",
       "    }\n",
       "</style>\n",
       "<table border=\"1\" class=\"dataframe\">\n",
       "  <thead>\n",
       "    <tr style=\"text-align: right;\">\n",
       "      <th></th>\n",
       "      <th>movie</th>\n",
       "      <th>label</th>\n",
       "      <th>prediction</th>\n",
       "    </tr>\n",
       "  </thead>\n",
       "  <tbody>\n",
       "    <tr>\n",
       "      <th>1368</th>\n",
       "      <td>The Hammer</td>\n",
       "      <td>75729</td>\n",
       "      <td>3.515452e+06</td>\n",
       "    </tr>\n",
       "    <tr>\n",
       "      <th>967</th>\n",
       "      <td>Toe to Toe</td>\n",
       "      <td>21268</td>\n",
       "      <td>1.245511e+05</td>\n",
       "    </tr>\n",
       "    <tr>\n",
       "      <th>3184</th>\n",
       "      <td>St. Vincent</td>\n",
       "      <td>44134898</td>\n",
       "      <td>2.904635e+07</td>\n",
       "    </tr>\n",
       "    <tr>\n",
       "      <th>347</th>\n",
       "      <td>Downloading Nancy</td>\n",
       "      <td>22153</td>\n",
       "      <td>1.217460e+06</td>\n",
       "    </tr>\n",
       "    <tr>\n",
       "      <th>5226</th>\n",
       "      <td>Vice</td>\n",
       "      <td>47836282</td>\n",
       "      <td>1.073661e+08</td>\n",
       "    </tr>\n",
       "    <tr>\n",
       "      <th>...</th>\n",
       "      <td>...</td>\n",
       "      <td>...</td>\n",
       "      <td>...</td>\n",
       "    </tr>\n",
       "    <tr>\n",
       "      <th>3147</th>\n",
       "      <td>Dracula Untold</td>\n",
       "      <td>56280355</td>\n",
       "      <td>7.305617e+07</td>\n",
       "    </tr>\n",
       "    <tr>\n",
       "      <th>3911</th>\n",
       "      <td>Lao pao er</td>\n",
       "      <td>1415450</td>\n",
       "      <td>0.000000e+00</td>\n",
       "    </tr>\n",
       "    <tr>\n",
       "      <th>1897</th>\n",
       "      <td>Gianni e le donne</td>\n",
       "      <td>315307</td>\n",
       "      <td>0.000000e+00</td>\n",
       "    </tr>\n",
       "    <tr>\n",
       "      <th>4934</th>\n",
       "      <td>Tehran Taboo</td>\n",
       "      <td>74758</td>\n",
       "      <td>0.000000e+00</td>\n",
       "    </tr>\n",
       "    <tr>\n",
       "      <th>5277</th>\n",
       "      <td>Climax</td>\n",
       "      <td>804112</td>\n",
       "      <td>1.407583e+06</td>\n",
       "    </tr>\n",
       "  </tbody>\n",
       "</table>\n",
       "<p>1785 rows × 3 columns</p>\n",
       "</div>"
      ],
      "text/plain": [
       "                  movie     label    prediction\n",
       "1368         The Hammer     75729  3.515452e+06\n",
       "967          Toe to Toe     21268  1.245511e+05\n",
       "3184        St. Vincent  44134898  2.904635e+07\n",
       "347   Downloading Nancy     22153  1.217460e+06\n",
       "5226               Vice  47836282  1.073661e+08\n",
       "...                 ...       ...           ...\n",
       "3147     Dracula Untold  56280355  7.305617e+07\n",
       "3911         Lao pao er   1415450  0.000000e+00\n",
       "1897  Gianni e le donne    315307  0.000000e+00\n",
       "4934       Tehran Taboo     74758  0.000000e+00\n",
       "5277             Climax    804112  1.407583e+06\n",
       "\n",
       "[1785 rows x 3 columns]"
      ]
     },
     "execution_count": 453,
     "metadata": {},
     "output_type": "execute_result"
    }
   ],
   "source": [
    "result"
   ]
  },
  {
   "cell_type": "code",
   "execution_count": 454,
   "metadata": {},
   "outputs": [
    {
     "name": "stdout",
     "output_type": "stream",
     "text": [
      "[0.77965543 0.70392044 0.80355382 0.73150443 0.66417032]\n",
      "0.7365608899361771\n"
     ]
    }
   ],
   "source": [
    "svc_rfr = cross_val_score(estimator=model,X=X_train,y=y_train,cv=KFold(n_splits=5), scoring='r2')\n",
    "print(svc_rfr)\n",
    "print(svc_rfr.mean())"
   ]
  },
  {
   "cell_type": "markdown",
   "metadata": {},
   "source": [
    "### Model tuning"
   ]
  },
  {
   "cell_type": "code",
   "execution_count": 464,
   "metadata": {},
   "outputs": [
    {
     "data": {
      "text/plain": [
       "GridSearchCV(cv=KFold(n_splits=5, random_state=None, shuffle=False),\n",
       "             error_score=nan,\n",
       "             estimator=XGBRegressor(base_score=None, booster=None,\n",
       "                                    colsample_bylevel=None,\n",
       "                                    colsample_bynode=None,\n",
       "                                    colsample_bytree=None, gamma=None,\n",
       "                                    gpu_id=None, importance_type='gain',\n",
       "                                    interaction_constraints=None,\n",
       "                                    learning_rate=None, max_delta_step=None,\n",
       "                                    max_depth=None, min_child_weight=Non...\n",
       "                                    objective='reg:squarederror',\n",
       "                                    random_state=None, reg_alpha=None,\n",
       "                                    reg_lambda=None, scale_pos_weight=None,\n",
       "                                    subsample=None, tree_method=None,\n",
       "                                    validate_parameters=False, verbosity=None),\n",
       "             iid='deprecated', n_jobs=None,\n",
       "             param_grid={'n_estimators': [100, 200, 300, 400, 500, 600, 700,\n",
       "                                          800, 900, 1000]},\n",
       "             pre_dispatch='2*n_jobs', refit=True, return_train_score=False,\n",
       "             scoring=None, verbose=0)"
      ]
     },
     "execution_count": 464,
     "metadata": {},
     "output_type": "execute_result"
    },
    {
     "name": "stdout",
     "output_type": "stream",
     "text": [
      "0.7370734836334952\n",
      "{'n_estimators': 200}\n"
     ]
    }
   ],
   "source": [
    "# First round\n",
    "model = XGBRegressor()\n",
    "param = {'n_estimators': [100, 200, 300, 400, 500, 600, 700, 800, 900, 1000]}\n",
    "gs = GridSearchCV(model, param, cv=KFold(n_splits=5))\n",
    "gs.fit(X_train, y_train)\n",
    "\n",
    "print(gs.best_score_)\n",
    "print(gs.best_params_)"
   ]
  },
  {
   "cell_type": "code",
   "execution_count": 52,
   "metadata": {},
   "outputs": [
    {
     "data": {
      "text/plain": [
       "GridSearchCV(cv=KFold(n_splits=5, random_state=None, shuffle=False),\n",
       "             error_score=nan,\n",
       "             estimator=XGBRegressor(base_score=None, booster=None,\n",
       "                                    colsample_bylevel=None,\n",
       "                                    colsample_bynode=None,\n",
       "                                    colsample_bytree=None, gamma=None,\n",
       "                                    gpu_id=None, importance_type='gain',\n",
       "                                    interaction_constraints=None,\n",
       "                                    learning_rate=None, max_delta_step=None,\n",
       "                                    max_depth=None, min_child_weight=Non...\n",
       "                                    num_parallel_tree=None,\n",
       "                                    objective='reg:squarederror',\n",
       "                                    random_state=None, reg_alpha=None,\n",
       "                                    reg_lambda=None, scale_pos_weight=None,\n",
       "                                    subsample=None, tree_method=None,\n",
       "                                    validate_parameters=False, verbosity=None),\n",
       "             iid='deprecated', n_jobs=None,\n",
       "             param_grid={'min_child_weight': [1, 2, 3, 4, 5, 6]},\n",
       "             pre_dispatch='2*n_jobs', refit=True, return_train_score=False,\n",
       "             scoring=None, verbose=0)"
      ]
     },
     "execution_count": 52,
     "metadata": {},
     "output_type": "execute_result"
    },
    {
     "name": "stdout",
     "output_type": "stream",
     "text": [
      "0.9514851194056346\n",
      "{'min_child_weight': 5}\n"
     ]
    }
   ],
   "source": [
    "# Second round\n",
    "model = XGBRegressor(n_estimators=100)\n",
    "param = {'min_child_weight':[1,2,3,4,5,6]}\n",
    "gs = GridSearchCV(model, param, cv=KFold(n_splits=5))\n",
    "gs.fit(X_train, y_train)\n",
    "\n",
    "print(gs.best_score_)\n",
    "print(gs.best_params_)"
   ]
  },
  {
   "cell_type": "code",
   "execution_count": 53,
   "metadata": {},
   "outputs": [
    {
     "data": {
      "text/plain": [
       "GridSearchCV(cv=KFold(n_splits=5, random_state=None, shuffle=False),\n",
       "             error_score=nan,\n",
       "             estimator=XGBRegressor(base_score=None, booster=None,\n",
       "                                    colsample_bylevel=None,\n",
       "                                    colsample_bynode=None,\n",
       "                                    colsample_bytree=None, gamma=None,\n",
       "                                    gpu_id=None, importance_type='gain',\n",
       "                                    interaction_constraints=None,\n",
       "                                    learning_rate=None, max_delta_step=None,\n",
       "                                    max_depth=None, min_child_weight=5,\n",
       "                                    m...\n",
       "                                    num_parallel_tree=None,\n",
       "                                    objective='reg:squarederror',\n",
       "                                    random_state=None, reg_alpha=None,\n",
       "                                    reg_lambda=None, scale_pos_weight=None,\n",
       "                                    subsample=None, tree_method=None,\n",
       "                                    validate_parameters=False, verbosity=None),\n",
       "             iid='deprecated', n_jobs=None,\n",
       "             param_grid={'max_depth': [3, 4, 5, 6, 7, 8, 9, 10]},\n",
       "             pre_dispatch='2*n_jobs', refit=True, return_train_score=False,\n",
       "             scoring=None, verbose=0)"
      ]
     },
     "execution_count": 53,
     "metadata": {},
     "output_type": "execute_result"
    },
    {
     "name": "stdout",
     "output_type": "stream",
     "text": [
      "0.9521135182216781\n",
      "{'max_depth': 4}\n"
     ]
    }
   ],
   "source": [
    "# Third round\n",
    "model = XGBRegressor(n_estimators=100, min_child_weight=5)\n",
    "param = {'max_depth':[3,4,5,6,7,8,9,10]}\n",
    "gs = GridSearchCV(model, param, cv=KFold(n_splits=5))\n",
    "gs.fit(X_train, y_train)\n",
    "\n",
    "print(gs.best_score_)\n",
    "print(gs.best_params_)"
   ]
  },
  {
   "cell_type": "code",
   "execution_count": 55,
   "metadata": {},
   "outputs": [
    {
     "data": {
      "text/plain": [
       "GridSearchCV(cv=KFold(n_splits=5, random_state=None, shuffle=False),\n",
       "             error_score=nan,\n",
       "             estimator=XGBRegressor(base_score=None, booster=None,\n",
       "                                    colsample_bylevel=None,\n",
       "                                    colsample_bynode=None,\n",
       "                                    colsample_bytree=None, gamma=None,\n",
       "                                    gpu_id=None, importance_type='gain',\n",
       "                                    interaction_constraints=None,\n",
       "                                    learning_rate=None, max_delta_step=None,\n",
       "                                    max_depth=4, min_child_weight=5,\n",
       "                                    miss...\n",
       "                                    num_parallel_tree=None,\n",
       "                                    objective='reg:squarederror',\n",
       "                                    random_state=None, reg_alpha=None,\n",
       "                                    reg_lambda=None, scale_pos_weight=None,\n",
       "                                    subsample=None, tree_method=None,\n",
       "                                    validate_parameters=False, verbosity=None),\n",
       "             iid='deprecated', n_jobs=None,\n",
       "             param_grid={'gamma': [0.1, 0.2, 0.3, 0.4, 0.5, 0.6]},\n",
       "             pre_dispatch='2*n_jobs', refit=True, return_train_score=False,\n",
       "             scoring=None, verbose=0)"
      ]
     },
     "execution_count": 55,
     "metadata": {},
     "output_type": "execute_result"
    },
    {
     "name": "stdout",
     "output_type": "stream",
     "text": [
      "0.9526687580135524\n",
      "{'gamma': 0.4}\n"
     ]
    }
   ],
   "source": [
    "# Fourth round\n",
    "model = XGBRegressor(n_estimators=100, min_child_weight=5, \\\n",
    "                      max_depth=4)\n",
    "param = {'gamma': [0.1, 0.2, 0.3, 0.4, 0.5, 0.6]}\n",
    "gs = GridSearchCV(model, param, cv=KFold(n_splits=5))\n",
    "gs.fit(X_train, y_train)\n",
    "\n",
    "print(gs.best_score_)\n",
    "print(gs.best_params_)"
   ]
  },
  {
   "cell_type": "code",
   "execution_count": 57,
   "metadata": {},
   "outputs": [
    {
     "data": {
      "text/plain": [
       "GridSearchCV(cv=KFold(n_splits=5, random_state=None, shuffle=False),\n",
       "             error_score=nan,\n",
       "             estimator=XGBRegressor(base_score=None, booster=None,\n",
       "                                    colsample_bylevel=None,\n",
       "                                    colsample_bynode=None,\n",
       "                                    colsample_bytree=None, gamma=0.4,\n",
       "                                    gpu_id=None, importance_type='gain',\n",
       "                                    interaction_constraints=None,\n",
       "                                    learning_rate=None, max_delta_step=None,\n",
       "                                    max_depth=4, min_child_weight=5,\n",
       "                                    missi...\n",
       "                                    objective='reg:squarederror',\n",
       "                                    random_state=None, reg_alpha=None,\n",
       "                                    reg_lambda=None, scale_pos_weight=None,\n",
       "                                    subsample=None, tree_method=None,\n",
       "                                    validate_parameters=False, verbosity=None),\n",
       "             iid='deprecated', n_jobs=None,\n",
       "             param_grid={'reg_alpha': [0.05, 0.1, 1, 2, 3],\n",
       "                         'reg_lambda': [0.05, 0.1, 1, 2, 3]},\n",
       "             pre_dispatch='2*n_jobs', refit=True, return_train_score=False,\n",
       "             scoring=None, verbose=0)"
      ]
     },
     "execution_count": 57,
     "metadata": {},
     "output_type": "execute_result"
    },
    {
     "name": "stdout",
     "output_type": "stream",
     "text": [
      "0.9520287947908791\n",
      "{'reg_alpha': 0.05, 'reg_lambda': 1}\n"
     ]
    }
   ],
   "source": [
    "# Fifth round\n",
    "# alpha : L1 regularization   lambda: L2 regularization\n",
    "model = XGBRegressor(n_estimators=100, min_child_weight=5, \\\n",
    "                      max_depth=4, gamma=0.4)\n",
    "param = {'reg_alpha': [0.05, 0.1, 1, 2, 3], 'reg_lambda': [0.05, 0.1, 1, 2, 3]}\n",
    "gs = GridSearchCV(model, param, cv=KFold(n_splits=5))\n",
    "gs.fit(X_train, y_train)\n",
    "\n",
    "print(gs.best_score_)\n",
    "print(gs.best_params_)"
   ]
  },
  {
   "cell_type": "code",
   "execution_count": 58,
   "metadata": {},
   "outputs": [
    {
     "data": {
      "text/plain": [
       "GridSearchCV(cv=KFold(n_splits=5, random_state=None, shuffle=False),\n",
       "             error_score=nan,\n",
       "             estimator=XGBRegressor(base_score=None, booster=None,\n",
       "                                    colsample_bylevel=None,\n",
       "                                    colsample_bynode=None,\n",
       "                                    colsample_bytree=None, gamma=0.4,\n",
       "                                    gpu_id=None, importance_type='gain',\n",
       "                                    interaction_constraints=None,\n",
       "                                    learning_rate=None, max_delta_step=None,\n",
       "                                    max_depth=4, min_child_weight=5,\n",
       "                                    missi...\n",
       "                                    num_parallel_tree=None,\n",
       "                                    objective='reg:squarederror',\n",
       "                                    random_state=None, reg_alpha=0.05,\n",
       "                                    reg_lambda=1, scale_pos_weight=None,\n",
       "                                    subsample=None, tree_method=None,\n",
       "                                    validate_parameters=False, verbosity=None),\n",
       "             iid='deprecated', n_jobs=None,\n",
       "             param_grid={'learning_rate': [0.01, 0.05, 0.07, 0.1, 0.2]},\n",
       "             pre_dispatch='2*n_jobs', refit=True, return_train_score=False,\n",
       "             scoring=None, verbose=0)"
      ]
     },
     "execution_count": 58,
     "metadata": {},
     "output_type": "execute_result"
    },
    {
     "name": "stdout",
     "output_type": "stream",
     "text": [
      "0.9529460223807344\n",
      "{'learning_rate': 0.1}\n"
     ]
    }
   ],
   "source": [
    "# Sixth round\n",
    "model = XGBRegressor(n_estimators=100, min_child_weight=5, \\\n",
    "                      max_depth=4, gamma=0.4,\\\n",
    "                      reg_alpha=0.05, reg_lambda=1)\n",
    "param = {'learning_rate': [0.01, 0.05, 0.07, 0.1, 0.2]}\n",
    "gs = GridSearchCV(model, param, cv=KFold(n_splits=5))\n",
    "gs.fit(X_train, y_train)\n",
    "\n",
    "print(gs.best_score_)\n",
    "print(gs.best_params_)"
   ]
  },
  {
   "cell_type": "code",
   "execution_count": null,
   "metadata": {},
   "outputs": [],
   "source": [
    "# Seventh round\n",
    "model = XGBRegressor(n_estimators=100, min_child_weight=5, \\\n",
    "                      max_depth=4, gamma=0.4,\\\n",
    "                      reg_alpha=0.05, reg_lambda=1)\n",
    "param = {'eta': []}\n",
    "gs = GridSearchCV(model, param, cv=KFold(n_splits=5))\n",
    "gs.fit(X_train, y_train)\n",
    "\n",
    "print(gs.best_score_)\n",
    "print(gs.best_params_)"
   ]
  },
  {
   "cell_type": "markdown",
   "metadata": {},
   "source": [
    "### Final Testing"
   ]
  },
  {
   "cell_type": "code",
   "execution_count": 455,
   "metadata": {},
   "outputs": [
    {
     "data": {
      "text/plain": [
       "XGBRegressor(base_score=0.5, booster=None, colsample_bylevel=1,\n",
       "             colsample_bynode=1, colsample_bytree=1, gamma=0.5, gpu_id=-1,\n",
       "             importance_type='gain', interaction_constraints=None,\n",
       "             learning_rate=0.3, max_delta_step=0, max_depth=6,\n",
       "             min_child_weight=5, missing=nan, monotone_constraints=None,\n",
       "             n_estimators=100, n_jobs=0, num_parallel_tree=1,\n",
       "             objective='reg:squarederror', random_state=0, reg_alpha=1,\n",
       "             reg_lambda=3, scale_pos_weight=1, subsample=1, tree_method=None,\n",
       "             validate_parameters=False, verbosity=None)"
      ]
     },
     "execution_count": 455,
     "metadata": {},
     "output_type": "execute_result"
    },
    {
     "name": "stdout",
     "output_type": "stream",
     "text": [
      "r2_score: 0.7342384167638885\n"
     ]
    }
   ],
   "source": [
    "# Final testing\n",
    "model = XGBRegressor(n_estimators=100, min_child_weight=5, \\\n",
    "                      max_depth=6, gamma=0.5,\\\n",
    "                      reg_alpha=1, reg_lambda=3,\\\n",
    "                      learning_rate=0.3)\n",
    "\n",
    "model.fit(X_train, y_train)\n",
    "prediction = model.predict(X_test)\n",
    "# prediction = np.exp(prediction)\n",
    "\n",
    "result=pd.DataFrame({'movie':testset['movie'] , 'label': y_test, 'prediction': [max(0,x) for x in prediction]})\n",
    "r2 = r2_score(y_test, prediction)\n",
    "print('r2_score: {}'.format(r2))"
   ]
  },
  {
   "cell_type": "code",
   "execution_count": 456,
   "metadata": {},
   "outputs": [
    {
     "data": {
      "text/html": [
       "<div>\n",
       "<style scoped>\n",
       "    .dataframe tbody tr th:only-of-type {\n",
       "        vertical-align: middle;\n",
       "    }\n",
       "\n",
       "    .dataframe tbody tr th {\n",
       "        vertical-align: top;\n",
       "    }\n",
       "\n",
       "    .dataframe thead th {\n",
       "        text-align: right;\n",
       "    }\n",
       "</style>\n",
       "<table border=\"1\" class=\"dataframe\">\n",
       "  <thead>\n",
       "    <tr style=\"text-align: right;\">\n",
       "      <th></th>\n",
       "      <th>movie</th>\n",
       "      <th>label</th>\n",
       "      <th>prediction</th>\n",
       "    </tr>\n",
       "  </thead>\n",
       "  <tbody>\n",
       "    <tr>\n",
       "      <th>1368</th>\n",
       "      <td>The Hammer</td>\n",
       "      <td>75729</td>\n",
       "      <td>2.038877e+06</td>\n",
       "    </tr>\n",
       "    <tr>\n",
       "      <th>967</th>\n",
       "      <td>Toe to Toe</td>\n",
       "      <td>21268</td>\n",
       "      <td>0.000000e+00</td>\n",
       "    </tr>\n",
       "    <tr>\n",
       "      <th>3184</th>\n",
       "      <td>St. Vincent</td>\n",
       "      <td>44134898</td>\n",
       "      <td>2.705840e+07</td>\n",
       "    </tr>\n",
       "    <tr>\n",
       "      <th>347</th>\n",
       "      <td>Downloading Nancy</td>\n",
       "      <td>22153</td>\n",
       "      <td>0.000000e+00</td>\n",
       "    </tr>\n",
       "    <tr>\n",
       "      <th>5226</th>\n",
       "      <td>Vice</td>\n",
       "      <td>47836282</td>\n",
       "      <td>7.302786e+07</td>\n",
       "    </tr>\n",
       "    <tr>\n",
       "      <th>...</th>\n",
       "      <td>...</td>\n",
       "      <td>...</td>\n",
       "      <td>...</td>\n",
       "    </tr>\n",
       "    <tr>\n",
       "      <th>3147</th>\n",
       "      <td>Dracula Untold</td>\n",
       "      <td>56280355</td>\n",
       "      <td>6.704324e+07</td>\n",
       "    </tr>\n",
       "    <tr>\n",
       "      <th>3911</th>\n",
       "      <td>Lao pao er</td>\n",
       "      <td>1415450</td>\n",
       "      <td>3.782248e+06</td>\n",
       "    </tr>\n",
       "    <tr>\n",
       "      <th>1897</th>\n",
       "      <td>Gianni e le donne</td>\n",
       "      <td>315307</td>\n",
       "      <td>0.000000e+00</td>\n",
       "    </tr>\n",
       "    <tr>\n",
       "      <th>4934</th>\n",
       "      <td>Tehran Taboo</td>\n",
       "      <td>74758</td>\n",
       "      <td>0.000000e+00</td>\n",
       "    </tr>\n",
       "    <tr>\n",
       "      <th>5277</th>\n",
       "      <td>Climax</td>\n",
       "      <td>804112</td>\n",
       "      <td>0.000000e+00</td>\n",
       "    </tr>\n",
       "  </tbody>\n",
       "</table>\n",
       "<p>1785 rows × 3 columns</p>\n",
       "</div>"
      ],
      "text/plain": [
       "                  movie     label    prediction\n",
       "1368         The Hammer     75729  2.038877e+06\n",
       "967          Toe to Toe     21268  0.000000e+00\n",
       "3184        St. Vincent  44134898  2.705840e+07\n",
       "347   Downloading Nancy     22153  0.000000e+00\n",
       "5226               Vice  47836282  7.302786e+07\n",
       "...                 ...       ...           ...\n",
       "3147     Dracula Untold  56280355  6.704324e+07\n",
       "3911         Lao pao er   1415450  3.782248e+06\n",
       "1897  Gianni e le donne    315307  0.000000e+00\n",
       "4934       Tehran Taboo     74758  0.000000e+00\n",
       "5277             Climax    804112  0.000000e+00\n",
       "\n",
       "[1785 rows x 3 columns]"
      ]
     },
     "execution_count": 456,
     "metadata": {},
     "output_type": "execute_result"
    }
   ],
   "source": [
    "result"
   ]
  },
  {
   "cell_type": "code",
   "execution_count": 457,
   "metadata": {},
   "outputs": [
    {
     "data": {
      "text/plain": [
       "<matplotlib.axes._subplots.AxesSubplot at 0x1859d0dc4c8>"
      ]
     },
     "execution_count": 457,
     "metadata": {},
     "output_type": "execute_result"
    },
    {
     "data": {
      "image/png": "[encoded data removed]",
      "text/plain": [
       "<Figure size 432x288 with 1 Axes>"
      ]
     },
     "metadata": {
      "needs_background": "light"
     },
     "output_type": "display_data"
    }
   ],
   "source": [
    "import xgboost as xgb\n",
    "xgb.plot_importance(model, max_num_features=10)"
   ]
  },
  {
   "cell_type": "markdown",
   "metadata": {},
   "source": [
    "### Visualization"
   ]
  },
  {
   "cell_type": "code",
   "execution_count": 458,
   "metadata": {},
   "outputs": [
    {
     "name": "stdout",
     "output_type": "stream",
     "text": [
      "[0]\tvalidation_0-mae:16440137.00000\tvalidation_1-mae:16921694.00000\n",
      "Multiple eval metrics have been passed: 'validation_1-mae' will be used for early stopping.\n",
      "\n",
      "Will train until validation_1-mae hasn't improved in 10 rounds.\n",
      "[1]\tvalidation_0-mae:13477460.00000\tvalidation_1-mae:14044617.00000\n",
      "[2]\tvalidation_0-mae:11776788.00000\tvalidation_1-mae:12839543.00000\n",
      "[3]\tvalidation_0-mae:10686746.00000\tvalidation_1-mae:12297891.00000\n",
      "[4]\tvalidation_0-mae:10014825.00000\tvalidation_1-mae:11902783.00000\n",
      "[5]\tvalidation_0-mae:9434536.00000\tvalidation_1-mae:11758029.00000\n",
      "[6]\tvalidation_0-mae:9175476.00000\tvalidation_1-mae:11613048.00000\n",
      "[7]\tvalidation_0-mae:8928691.00000\tvalidation_1-mae:11596983.00000\n",
      "[8]\tvalidation_0-mae:8719401.00000\tvalidation_1-mae:11525640.00000\n",
      "[9]\tvalidation_0-mae:8672984.00000\tvalidation_1-mae:11496875.00000\n",
      "[10]\tvalidation_0-mae:8498882.00000\tvalidation_1-mae:11454531.00000\n",
      "[11]\tvalidation_0-mae:8320860.50000\tvalidation_1-mae:11465274.00000\n",
      "[12]\tvalidation_0-mae:8216860.50000\tvalidation_1-mae:11564325.00000\n",
      "[13]\tvalidation_0-mae:8166627.50000\tvalidation_1-mae:11596429.00000\n",
      "[14]\tvalidation_0-mae:8099026.00000\tvalidation_1-mae:11608861.00000\n",
      "[15]\tvalidation_0-mae:7987245.00000\tvalidation_1-mae:11638925.00000\n",
      "[16]\tvalidation_0-mae:7930565.50000\tvalidation_1-mae:11673874.00000\n",
      "[17]\tvalidation_0-mae:7826228.00000\tvalidation_1-mae:11732372.00000\n",
      "[18]\tvalidation_0-mae:7779558.50000\tvalidation_1-mae:11717172.00000\n",
      "[19]\tvalidation_0-mae:7702168.50000\tvalidation_1-mae:11678274.00000\n",
      "[20]\tvalidation_0-mae:7631666.50000\tvalidation_1-mae:11675094.00000\n",
      "Stopping. Best iteration:\n",
      "[10]\tvalidation_0-mae:8498882.00000\tvalidation_1-mae:11454531.00000\n",
      "\n"
     ]
    },
    {
     "data": {
      "text/plain": [
       "XGBRegressor(base_score=0.5, booster=None, colsample_bylevel=1,\n",
       "             colsample_bynode=1, colsample_bytree=1, gamma=5, gpu_id=-1,\n",
       "             importance_type='gain', interaction_constraints=None,\n",
       "             learning_rate=0.3, max_delta_step=0, max_depth=6,\n",
       "             min_child_weight=5, missing=nan, monotone_constraints=None,\n",
       "             n_estimators=100, n_jobs=0, num_parallel_tree=1,\n",
       "             objective='reg:squarederror', random_state=0, reg_alpha=1,\n",
       "             reg_lambda=3, scale_pos_weight=1, subsample=0.8, tree_method=None,\n",
       "             validate_parameters=False, verbosity=None)"
      ]
     },
     "execution_count": 458,
     "metadata": {},
     "output_type": "execute_result"
    }
   ],
   "source": [
    "model = XGBRegressor(n_estimators=100, min_child_weight=5, \\\n",
    "                      max_depth=6, gamma=5,\\\n",
    "                      reg_alpha=1, reg_lambda=3,\\\n",
    "                      learning_rate=0.3, subsample=0.8,\\\n",
    "                      colsample_bytree=1)\n",
    "\n",
    "eval_set = [(X_train, y_train), (X_test, y_test)]\n",
    "model.fit(X_train, y_train, eval_metric='mae', eval_set=eval_set, verbose=True, early_stopping_rounds=10)"
   ]
  },
  {
   "cell_type": "code",
   "execution_count": 459,
   "metadata": {},
   "outputs": [],
   "source": [
    "results = model.evals_result()"
   ]
  },
  {
   "cell_type": "code",
   "execution_count": 460,
   "metadata": {},
   "outputs": [],
   "source": [
    "epochs = len(results['validation_0']['mae'])"
   ]
  },
  {
   "cell_type": "code",
   "execution_count": 461,
   "metadata": {},
   "outputs": [
    {
     "data": {
      "text/plain": [
       "[<matplotlib.lines.Line2D at 0x1859d12cf88>]"
      ]
     },
     "execution_count": 461,
     "metadata": {},
     "output_type": "execute_result"
    },
    {
     "data": {
      "text/plain": [
       "[<matplotlib.lines.Line2D at 0x1859d3e2c08>]"
      ]
     },
     "execution_count": 461,
     "metadata": {},
     "output_type": "execute_result"
    },
    {
     "data": {
      "text/plain": [
       "<matplotlib.legend.Legend at 0x185b0a4e2c8>"
      ]
     },
     "execution_count": 461,
     "metadata": {},
     "output_type": "execute_result"
    },
    {
     "data": {
      "text/plain": [
       "Text(0, 0.5, 'Regression Error')"
      ]
     },
     "execution_count": 461,
     "metadata": {},
     "output_type": "execute_result"
    },
    {
     "data": {
      "text/plain": [
       "Text(0.5, 1.0, 'XGBoost Regression Error')"
      ]
     },
     "execution_count": 461,
     "metadata": {},
     "output_type": "execute_result"
    },
    {
     "data": {
      "image/png": "[encoded data removed]",
      "text/plain": [
       "<Figure size 432x288 with 1 Axes>"
      ]
     },
     "metadata": {
      "needs_background": "light"
     },
     "output_type": "display_data"
    }
   ],
   "source": [
    "x_axis = range(0, epochs)\n",
    "\n",
    "fig, ax = plt.subplots()\n",
    "ax.plot(x_axis, results['validation_0']['mae'], label='Train')\n",
    "ax.plot(x_axis, results['validation_1']['mae'], label='Test')\n",
    "ax.legend()\n",
    "plt.ylabel('Regression Error')\n",
    "plt.title('XGBoost Regression Error')\n",
    "plt.show()"
   ]
  },
  {
   "cell_type": "code",
   "execution_count": 462,
   "metadata": {},
   "outputs": [
    {
     "name": "stdout",
     "output_type": "stream",
     "text": [
      "r2_score: 0.735998073539999\n"
     ]
    }
   ],
   "source": [
    "prediction = model.predict(X_test)\n",
    "# prediction = np.exp(prediction)\n",
    "\n",
    "result=pd.DataFrame({'movie':testset['movie'] , 'label': y_test, 'prediction': [max(0,x) for x in prediction]})\n",
    "r2 = r2_score(y_test, prediction)\n",
    "print('r2_score: {}'.format(r2))"
   ]
  },
  {
   "cell_type": "code",
   "execution_count": null,
   "metadata": {},
   "outputs": [],
   "source": []
  }
 ],
 "metadata": {
  "kernelspec": {
   "display_name": "Python 3",
   "language": "python",
   "name": "python3"
  },
  "language_info": {
   "codemirror_mode": {
    "name": "ipython",
    "version": 3
   },
   "file_extension": ".py",
   "mimetype": "text/x-python",
   "name": "python",
   "nbconvert_exporter": "python",
   "pygments_lexer": "ipython3",
   "version": "3.7.6"
  }
 },
 "nbformat": 4,
 "nbformat_minor": 4
}
