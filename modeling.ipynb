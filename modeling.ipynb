{
 "cells": [
  {
   "cell_type": "code",
   "execution_count": 1,
   "metadata": {},
   "outputs": [],
   "source": [
    "import pandas as pd\n",
    "import numpy as np\n",
    "from sklearn.model_selection import train_test_split\n",
    "from sklearn.ensemble import RandomForestRegressor\n",
    "from sklearn.metrics import mean_squared_error\n",
    "from sklearn.neural_network import MLPRegressor\n",
    "from sklearn.preprocessing import StandardScaler\n",
    "from sklearn.preprocessing import MinMaxScaler\n",
    "from sklearn.metrics import r2_score\n",
    "from matplotlib import pyplot as plt\n",
    "from xgboost.sklearn import XGBRegressor\n",
    "from sklearn.model_selection import GridSearchCV, cross_val_score\n",
    "from lightgbm import LGBMRegressor\n",
    "from catboost import CatBoostRegressor\n",
    "import seaborn as sns\n",
    "from sklearn.model_selection import KFold"
   ]
  },
  {
   "cell_type": "code",
   "execution_count": 2,
   "metadata": {},
   "outputs": [],
   "source": [
    "%matplotlib inline\n",
    "from IPython.core.interactiveshell import InteractiveShell \n",
    "InteractiveShell.ast_node_interactivity = 'all'\n",
    "\n",
    "\n",
    "trainset = pd.read_csv('data/trainset.csv', index_col=0)\n",
    "testset = pd.read_csv('data/testset.csv', index_col=0)"
   ]
  },
  {
   "cell_type": "code",
   "execution_count": 3,
   "metadata": {},
   "outputs": [
    {
     "data": {
      "text/html": [
       "<div>\n",
       "<style scoped>\n",
       "    .dataframe tbody tr th:only-of-type {\n",
       "        vertical-align: middle;\n",
       "    }\n",
       "\n",
       "    .dataframe tbody tr th {\n",
       "        vertical-align: top;\n",
       "    }\n",
       "\n",
       "    .dataframe thead th {\n",
       "        text-align: right;\n",
       "    }\n",
       "</style>\n",
       "<table border=\"1\" class=\"dataframe\">\n",
       "  <thead>\n",
       "    <tr style=\"text-align: right;\">\n",
       "      <th></th>\n",
       "      <th>movie</th>\n",
       "      <th>year</th>\n",
       "      <th>runtime</th>\n",
       "      <th>director</th>\n",
       "      <th>stars</th>\n",
       "      <th>imdb</th>\n",
       "      <th>gross</th>\n",
       "      <th>metascore</th>\n",
       "      <th>vote</th>\n",
       "      <th>budget</th>\n",
       "      <th>...</th>\n",
       "      <th>stars_20</th>\n",
       "      <th>stars_21</th>\n",
       "      <th>stars_22</th>\n",
       "      <th>stars_23</th>\n",
       "      <th>stars_24</th>\n",
       "      <th>stars_25</th>\n",
       "      <th>stars_26</th>\n",
       "      <th>stars_27</th>\n",
       "      <th>stars_28</th>\n",
       "      <th>stars_29</th>\n",
       "    </tr>\n",
       "  </thead>\n",
       "  <tbody>\n",
       "    <tr>\n",
       "      <th>5170</th>\n",
       "      <td>The Departure</td>\n",
       "      <td>2017.0</td>\n",
       "      <td>87.0</td>\n",
       "      <td>0</td>\n",
       "      <td>0</td>\n",
       "      <td>7.0</td>\n",
       "      <td>23100</td>\n",
       "      <td>85.0</td>\n",
       "      <td>154</td>\n",
       "      <td>0.0</td>\n",
       "      <td>...</td>\n",
       "      <td>0</td>\n",
       "      <td>0</td>\n",
       "      <td>0</td>\n",
       "      <td>0</td>\n",
       "      <td>0</td>\n",
       "      <td>0</td>\n",
       "      <td>0</td>\n",
       "      <td>0</td>\n",
       "      <td>0</td>\n",
       "      <td>0</td>\n",
       "    </tr>\n",
       "    <tr>\n",
       "      <th>5346</th>\n",
       "      <td>Every Day</td>\n",
       "      <td>2018.0</td>\n",
       "      <td>97.0</td>\n",
       "      <td>0</td>\n",
       "      <td>0</td>\n",
       "      <td>6.4</td>\n",
       "      <td>6102076</td>\n",
       "      <td>52.0</td>\n",
       "      <td>16170</td>\n",
       "      <td>4900000.0</td>\n",
       "      <td>...</td>\n",
       "      <td>0</td>\n",
       "      <td>0</td>\n",
       "      <td>0</td>\n",
       "      <td>0</td>\n",
       "      <td>0</td>\n",
       "      <td>0</td>\n",
       "      <td>0</td>\n",
       "      <td>0</td>\n",
       "      <td>0</td>\n",
       "      <td>0</td>\n",
       "    </tr>\n",
       "    <tr>\n",
       "      <th>3782</th>\n",
       "      <td>The Overnight</td>\n",
       "      <td>2015.0</td>\n",
       "      <td>79.0</td>\n",
       "      <td>0</td>\n",
       "      <td>0</td>\n",
       "      <td>6.1</td>\n",
       "      <td>1100000</td>\n",
       "      <td>65.0</td>\n",
       "      <td>15309</td>\n",
       "      <td>0.0</td>\n",
       "      <td>...</td>\n",
       "      <td>0</td>\n",
       "      <td>0</td>\n",
       "      <td>0</td>\n",
       "      <td>0</td>\n",
       "      <td>0</td>\n",
       "      <td>0</td>\n",
       "      <td>0</td>\n",
       "      <td>0</td>\n",
       "      <td>0</td>\n",
       "      <td>0</td>\n",
       "    </tr>\n",
       "    <tr>\n",
       "      <th>3937</th>\n",
       "      <td>Nasty Baby</td>\n",
       "      <td>2015.0</td>\n",
       "      <td>101.0</td>\n",
       "      <td>0</td>\n",
       "      <td>0</td>\n",
       "      <td>5.6</td>\n",
       "      <td>79800</td>\n",
       "      <td>64.0</td>\n",
       "      <td>2154</td>\n",
       "      <td>0.0</td>\n",
       "      <td>...</td>\n",
       "      <td>0</td>\n",
       "      <td>0</td>\n",
       "      <td>0</td>\n",
       "      <td>0</td>\n",
       "      <td>0</td>\n",
       "      <td>0</td>\n",
       "      <td>0</td>\n",
       "      <td>0</td>\n",
       "      <td>0</td>\n",
       "      <td>0</td>\n",
       "    </tr>\n",
       "    <tr>\n",
       "      <th>3108</th>\n",
       "      <td>Edge of Tomorrow</td>\n",
       "      <td>2014.0</td>\n",
       "      <td>113.0</td>\n",
       "      <td>0</td>\n",
       "      <td>0</td>\n",
       "      <td>7.9</td>\n",
       "      <td>100206256</td>\n",
       "      <td>71.0</td>\n",
       "      <td>571740</td>\n",
       "      <td>178000000.0</td>\n",
       "      <td>...</td>\n",
       "      <td>0</td>\n",
       "      <td>0</td>\n",
       "      <td>0</td>\n",
       "      <td>0</td>\n",
       "      <td>0</td>\n",
       "      <td>0</td>\n",
       "      <td>0</td>\n",
       "      <td>0</td>\n",
       "      <td>0</td>\n",
       "      <td>0</td>\n",
       "    </tr>\n",
       "  </tbody>\n",
       "</table>\n",
       "<p>5 rows × 187 columns</p>\n",
       "</div>"
      ],
      "text/plain": [
       "                 movie    year  runtime  director  stars  imdb      gross  \\\n",
       "5170     The Departure  2017.0     87.0         0      0   7.0      23100   \n",
       "5346         Every Day  2018.0     97.0         0      0   6.4    6102076   \n",
       "3782     The Overnight  2015.0     79.0         0      0   6.1    1100000   \n",
       "3937        Nasty Baby  2015.0    101.0         0      0   5.6      79800   \n",
       "3108  Edge of Tomorrow  2014.0    113.0         0      0   7.9  100206256   \n",
       "\n",
       "      metascore    vote       budget  ...  stars_20  stars_21  stars_22  \\\n",
       "5170       85.0     154          0.0  ...         0         0         0   \n",
       "5346       52.0   16170    4900000.0  ...         0         0         0   \n",
       "3782       65.0   15309          0.0  ...         0         0         0   \n",
       "3937       64.0    2154          0.0  ...         0         0         0   \n",
       "3108       71.0  571740  178000000.0  ...         0         0         0   \n",
       "\n",
       "      stars_23  stars_24  stars_25  stars_26  stars_27  stars_28  stars_29  \n",
       "5170         0         0         0         0         0         0         0  \n",
       "5346         0         0         0         0         0         0         0  \n",
       "3782         0         0         0         0         0         0         0  \n",
       "3937         0         0         0         0         0         0         0  \n",
       "3108         0         0         0         0         0         0         0  \n",
       "\n",
       "[5 rows x 187 columns]"
      ]
     },
     "execution_count": 3,
     "metadata": {},
     "output_type": "execute_result"
    }
   ],
   "source": [
    "trainset.head(5)"
   ]
  },
  {
   "cell_type": "code",
   "execution_count": 4,
   "metadata": {},
   "outputs": [],
   "source": [
    "header = list(trainset)\n",
    "y_train = trainset['gross']\n",
    "y_test = testset['gross']\n",
    "\n",
    "header.remove('gross')\n",
    "header.remove('metascore')\n",
    "header.remove('imdb')\n",
    "header.remove('vote')\n",
    "# header.remove('budget')\n",
    "# header.remove('day')\n",
    "# header.remove('month')\n",
    "\n",
    "X_train = trainset.loc[:, header[1:]]\n",
    "X_test = testset.loc[:, header[1:]]"
   ]
  },
  {
   "cell_type": "code",
   "execution_count": 5,
   "metadata": {},
   "outputs": [
    {
     "name": "stdout",
     "output_type": "stream",
     "text": [
      "(4165, 182)\n",
      "(1785, 182)\n"
     ]
    }
   ],
   "source": [
    "print(X_train.shape)\n",
    "print(X_test.shape)"
   ]
  },
  {
   "cell_type": "code",
   "execution_count": 6,
   "metadata": {},
   "outputs": [
    {
     "data": {
      "text/plain": [
       "XGBRegressor(base_score=0.5, booster=None, colsample_bylevel=1,\n",
       "             colsample_bynode=1, colsample_bytree=1, gamma=0, gpu_id=-1,\n",
       "             importance_type='gain', interaction_constraints=None,\n",
       "             learning_rate=0.300000012, max_delta_step=0, max_depth=6,\n",
       "             min_child_weight=1, missing=nan, monotone_constraints=None,\n",
       "             n_estimators=100, n_jobs=0, num_parallel_tree=1,\n",
       "             objective='reg:squarederror', random_state=0, reg_alpha=0,\n",
       "             reg_lambda=1, scale_pos_weight=1, subsample=1, tree_method=None,\n",
       "             validate_parameters=False, verbosity=None)"
      ]
     },
     "execution_count": 6,
     "metadata": {},
     "output_type": "execute_result"
    },
    {
     "name": "stdout",
     "output_type": "stream",
     "text": [
      "r2_score: 0.7724105859782618\n"
     ]
    }
   ],
   "source": [
    "model = XGBRegressor()\n",
    "model.fit(X_train, y_train)\n",
    "prediction = model.predict(X_test)\n",
    "\n",
    "result=pd.DataFrame({'movie':testset['movie'] , 'label': y_test, 'prediction': [max(0,x) for x in prediction]})\n",
    "r2 = r2_score(y_test, prediction)\n",
    "print('r2_score: {}'.format(r2))"
   ]
  },
  {
   "cell_type": "code",
   "execution_count": 7,
   "metadata": {},
   "outputs": [
    {
     "data": {
      "text/html": [
       "<div>\n",
       "<style scoped>\n",
       "    .dataframe tbody tr th:only-of-type {\n",
       "        vertical-align: middle;\n",
       "    }\n",
       "\n",
       "    .dataframe tbody tr th {\n",
       "        vertical-align: top;\n",
       "    }\n",
       "\n",
       "    .dataframe thead th {\n",
       "        text-align: right;\n",
       "    }\n",
       "</style>\n",
       "<table border=\"1\" class=\"dataframe\">\n",
       "  <thead>\n",
       "    <tr style=\"text-align: right;\">\n",
       "      <th></th>\n",
       "      <th>movie</th>\n",
       "      <th>label</th>\n",
       "      <th>prediction</th>\n",
       "    </tr>\n",
       "  </thead>\n",
       "  <tbody>\n",
       "    <tr>\n",
       "      <th>4144</th>\n",
       "      <td>Dangal</td>\n",
       "      <td>12391761</td>\n",
       "      <td>4.470918e+06</td>\n",
       "    </tr>\n",
       "    <tr>\n",
       "      <th>2341</th>\n",
       "      <td>Tere Naal Love Ho Gaya</td>\n",
       "      <td>177472</td>\n",
       "      <td>1.685460e+06</td>\n",
       "    </tr>\n",
       "    <tr>\n",
       "      <th>708</th>\n",
       "      <td>Wake Up Sid</td>\n",
       "      <td>717977</td>\n",
       "      <td>2.849067e+06</td>\n",
       "    </tr>\n",
       "    <tr>\n",
       "      <th>4141</th>\n",
       "      <td>Miss Peregrine's Home for Peculiar Children</td>\n",
       "      <td>87242834</td>\n",
       "      <td>1.407045e+08</td>\n",
       "    </tr>\n",
       "    <tr>\n",
       "      <th>3516</th>\n",
       "      <td>3 Nights in the Desert</td>\n",
       "      <td>1279</td>\n",
       "      <td>0.000000e+00</td>\n",
       "    </tr>\n",
       "    <tr>\n",
       "      <th>...</th>\n",
       "      <td>...</td>\n",
       "      <td>...</td>\n",
       "      <td>...</td>\n",
       "    </tr>\n",
       "    <tr>\n",
       "      <th>2498</th>\n",
       "      <td>Greenwich Village: Music That Defined a Genera...</td>\n",
       "      <td>22560</td>\n",
       "      <td>3.019158e+05</td>\n",
       "    </tr>\n",
       "    <tr>\n",
       "      <th>1016</th>\n",
       "      <td>If I Die Tonight</td>\n",
       "      <td>20175</td>\n",
       "      <td>2.602204e+06</td>\n",
       "    </tr>\n",
       "    <tr>\n",
       "      <th>517</th>\n",
       "      <td>Jazz in the Diamond District</td>\n",
       "      <td>5107</td>\n",
       "      <td>4.077282e+04</td>\n",
       "    </tr>\n",
       "    <tr>\n",
       "      <th>4638</th>\n",
       "      <td>Guardians of the Galaxy Vol. 2</td>\n",
       "      <td>389813101</td>\n",
       "      <td>3.587103e+08</td>\n",
       "    </tr>\n",
       "    <tr>\n",
       "      <th>3556</th>\n",
       "      <td>Lambert &amp; Stamp</td>\n",
       "      <td>182851</td>\n",
       "      <td>6.740026e+05</td>\n",
       "    </tr>\n",
       "  </tbody>\n",
       "</table>\n",
       "<p>1785 rows × 3 columns</p>\n",
       "</div>"
      ],
      "text/plain": [
       "                                                  movie      label  \\\n",
       "4144                                             Dangal   12391761   \n",
       "2341                             Tere Naal Love Ho Gaya     177472   \n",
       "708                                         Wake Up Sid     717977   \n",
       "4141        Miss Peregrine's Home for Peculiar Children   87242834   \n",
       "3516                             3 Nights in the Desert       1279   \n",
       "...                                                 ...        ...   \n",
       "2498  Greenwich Village: Music That Defined a Genera...      22560   \n",
       "1016                                   If I Die Tonight      20175   \n",
       "517                        Jazz in the Diamond District       5107   \n",
       "4638                     Guardians of the Galaxy Vol. 2  389813101   \n",
       "3556                                    Lambert & Stamp     182851   \n",
       "\n",
       "        prediction  \n",
       "4144  4.470918e+06  \n",
       "2341  1.685460e+06  \n",
       "708   2.849067e+06  \n",
       "4141  1.407045e+08  \n",
       "3516  0.000000e+00  \n",
       "...            ...  \n",
       "2498  3.019158e+05  \n",
       "1016  2.602204e+06  \n",
       "517   4.077282e+04  \n",
       "4638  3.587103e+08  \n",
       "3556  6.740026e+05  \n",
       "\n",
       "[1785 rows x 3 columns]"
      ]
     },
     "execution_count": 7,
     "metadata": {},
     "output_type": "execute_result"
    }
   ],
   "source": [
    "result"
   ]
  },
  {
   "cell_type": "code",
   "execution_count": 8,
   "metadata": {},
   "outputs": [
    {
     "name": "stdout",
     "output_type": "stream",
     "text": [
      "[0.79460555 0.69011914 0.63048288 0.71228838 0.70356537]\n",
      "0.7062122641706321\n"
     ]
    }
   ],
   "source": [
    "svc_rfr = cross_val_score(estimator=model,X=X_train,y=y_train,cv=KFold(n_splits=5), scoring='r2')\n",
    "print(svc_rfr)\n",
    "print(svc_rfr.mean())"
   ]
  },
  {
   "cell_type": "markdown",
   "metadata": {},
   "source": [
    "### Model tuning"
   ]
  },
  {
   "cell_type": "code",
   "execution_count": 10,
   "metadata": {},
   "outputs": [
    {
     "data": {
      "text/plain": [
       "GridSearchCV(cv=KFold(n_splits=5, random_state=None, shuffle=False),\n",
       "             error_score=nan,\n",
       "             estimator=XGBRegressor(base_score=None, booster=None,\n",
       "                                    colsample_bylevel=None,\n",
       "                                    colsample_bynode=None,\n",
       "                                    colsample_bytree=None, gamma=None,\n",
       "                                    gpu_id=None, importance_type='gain',\n",
       "                                    interaction_constraints=None,\n",
       "                                    learning_rate=None, max_delta_step=None,\n",
       "                                    max_depth=None, min_child_weight=Non...\n",
       "                                    objective='reg:squarederror',\n",
       "                                    random_state=None, reg_alpha=None,\n",
       "                                    reg_lambda=None, scale_pos_weight=None,\n",
       "                                    subsample=None, tree_method=None,\n",
       "                                    validate_parameters=False, verbosity=None),\n",
       "             iid='deprecated', n_jobs=None,\n",
       "             param_grid={'n_estimators': [100, 200, 300, 400, 500, 600, 700,\n",
       "                                          800, 900, 1000]},\n",
       "             pre_dispatch='2*n_jobs', refit=True, return_train_score=False,\n",
       "             scoring=None, verbose=0)"
      ]
     },
     "execution_count": 10,
     "metadata": {},
     "output_type": "execute_result"
    },
    {
     "name": "stdout",
     "output_type": "stream",
     "text": [
      "0.7062122641706321\n",
      "{'n_estimators': 100}\n"
     ]
    }
   ],
   "source": [
    "# First round\n",
    "model = XGBRegressor()\n",
    "param = {'n_estimators': [100, 200, 300, 400, 500, 600, 700, 800, 900, 1000]}\n",
    "gs = GridSearchCV(model, param, cv=KFold(n_splits=5))\n",
    "gs.fit(X_train, y_train)\n",
    "\n",
    "print(gs.best_score_)\n",
    "print(gs.best_params_)"
   ]
  },
  {
   "cell_type": "code",
   "execution_count": 11,
   "metadata": {},
   "outputs": [
    {
     "data": {
      "text/plain": [
       "GridSearchCV(cv=KFold(n_splits=5, random_state=None, shuffle=False),\n",
       "             error_score=nan,\n",
       "             estimator=XGBRegressor(base_score=None, booster=None,\n",
       "                                    colsample_bylevel=None,\n",
       "                                    colsample_bynode=None,\n",
       "                                    colsample_bytree=None, gamma=None,\n",
       "                                    gpu_id=None, importance_type='gain',\n",
       "                                    interaction_constraints=None,\n",
       "                                    learning_rate=None, max_delta_step=None,\n",
       "                                    max_depth=None, min_child_weight=Non...\n",
       "                                    num_parallel_tree=None,\n",
       "                                    objective='reg:squarederror',\n",
       "                                    random_state=None, reg_alpha=None,\n",
       "                                    reg_lambda=None, scale_pos_weight=None,\n",
       "                                    subsample=None, tree_method=None,\n",
       "                                    validate_parameters=False, verbosity=None),\n",
       "             iid='deprecated', n_jobs=None,\n",
       "             param_grid={'min_child_weight': [1, 2, 3, 4, 5, 6]},\n",
       "             pre_dispatch='2*n_jobs', refit=True, return_train_score=False,\n",
       "             scoring=None, verbose=0)"
      ]
     },
     "execution_count": 11,
     "metadata": {},
     "output_type": "execute_result"
    },
    {
     "name": "stdout",
     "output_type": "stream",
     "text": [
      "0.7272580211872167\n",
      "{'min_child_weight': 6}\n"
     ]
    }
   ],
   "source": [
    "# Second round\n",
    "model = XGBRegressor(n_estimators=100)\n",
    "param = {'min_child_weight':[1,2,3,4,5,6]}\n",
    "gs = GridSearchCV(model, param, cv=KFold(n_splits=5))\n",
    "gs.fit(X_train, y_train)\n",
    "\n",
    "print(gs.best_score_)\n",
    "print(gs.best_params_)"
   ]
  },
  {
   "cell_type": "code",
   "execution_count": 12,
   "metadata": {},
   "outputs": [
    {
     "data": {
      "text/plain": [
       "GridSearchCV(cv=KFold(n_splits=5, random_state=None, shuffle=False),\n",
       "             error_score=nan,\n",
       "             estimator=XGBRegressor(base_score=None, booster=None,\n",
       "                                    colsample_bylevel=None,\n",
       "                                    colsample_bynode=None,\n",
       "                                    colsample_bytree=None, gamma=None,\n",
       "                                    gpu_id=None, importance_type='gain',\n",
       "                                    interaction_constraints=None,\n",
       "                                    learning_rate=None, max_delta_step=None,\n",
       "                                    max_depth=None, min_child_weight=6,\n",
       "                                    m...\n",
       "                                    num_parallel_tree=None,\n",
       "                                    objective='reg:squarederror',\n",
       "                                    random_state=None, reg_alpha=None,\n",
       "                                    reg_lambda=None, scale_pos_weight=None,\n",
       "                                    subsample=None, tree_method=None,\n",
       "                                    validate_parameters=False, verbosity=None),\n",
       "             iid='deprecated', n_jobs=None,\n",
       "             param_grid={'max_depth': [3, 4, 5, 6, 7, 8, 9, 10, 15, 30, 50]},\n",
       "             pre_dispatch='2*n_jobs', refit=True, return_train_score=False,\n",
       "             scoring=None, verbose=0)"
      ]
     },
     "execution_count": 12,
     "metadata": {},
     "output_type": "execute_result"
    },
    {
     "name": "stdout",
     "output_type": "stream",
     "text": [
      "0.7272580211872167\n",
      "{'max_depth': 6}\n"
     ]
    }
   ],
   "source": [
    "# Third round\n",
    "model = XGBRegressor(n_estimators=100, min_child_weight=6)\n",
    "param = {'max_depth':[3,4,5,6,7,8,9,10, 15, 30, 50]}\n",
    "gs = GridSearchCV(model, param, cv=KFold(n_splits=5))\n",
    "gs.fit(X_train, y_train)\n",
    "\n",
    "print(gs.best_score_)\n",
    "print(gs.best_params_)"
   ]
  },
  {
   "cell_type": "code",
   "execution_count": 13,
   "metadata": {},
   "outputs": [
    {
     "data": {
      "text/plain": [
       "GridSearchCV(cv=KFold(n_splits=5, random_state=None, shuffle=False),\n",
       "             error_score=nan,\n",
       "             estimator=XGBRegressor(base_score=None, booster=None,\n",
       "                                    colsample_bylevel=None,\n",
       "                                    colsample_bynode=None,\n",
       "                                    colsample_bytree=None, gamma=None,\n",
       "                                    gpu_id=None, importance_type='gain',\n",
       "                                    interaction_constraints=None,\n",
       "                                    learning_rate=None, max_delta_step=None,\n",
       "                                    max_depth=6, min_child_weight=6,\n",
       "                                    miss...\n",
       "                                    num_parallel_tree=None,\n",
       "                                    objective='reg:squarederror',\n",
       "                                    random_state=None, reg_alpha=None,\n",
       "                                    reg_lambda=None, scale_pos_weight=None,\n",
       "                                    subsample=None, tree_method=None,\n",
       "                                    validate_parameters=False, verbosity=None),\n",
       "             iid='deprecated', n_jobs=None,\n",
       "             param_grid={'gamma': [0.1, 0.2, 0.3, 0.4, 0.5, 0.6]},\n",
       "             pre_dispatch='2*n_jobs', refit=True, return_train_score=False,\n",
       "             scoring=None, verbose=0)"
      ]
     },
     "execution_count": 13,
     "metadata": {},
     "output_type": "execute_result"
    },
    {
     "name": "stdout",
     "output_type": "stream",
     "text": [
      "0.7272580211872167\n",
      "{'gamma': 0.1}\n"
     ]
    }
   ],
   "source": [
    "# Fourth round\n",
    "model = XGBRegressor(n_estimators=100, min_child_weight=6, \\\n",
    "                      max_depth=6)\n",
    "param = {'gamma': [0.1, 0.2, 0.3, 0.4, 0.5, 0.6]}\n",
    "gs = GridSearchCV(model, param, cv=KFold(n_splits=5))\n",
    "gs.fit(X_train, y_train)\n",
    "\n",
    "print(gs.best_score_)\n",
    "print(gs.best_params_)"
   ]
  },
  {
   "cell_type": "code",
   "execution_count": 14,
   "metadata": {},
   "outputs": [
    {
     "data": {
      "text/plain": [
       "GridSearchCV(cv=KFold(n_splits=5, random_state=None, shuffle=False),\n",
       "             error_score=nan,\n",
       "             estimator=XGBRegressor(base_score=None, booster=None,\n",
       "                                    colsample_bylevel=None,\n",
       "                                    colsample_bynode=None,\n",
       "                                    colsample_bytree=None, gamma=0.1,\n",
       "                                    gpu_id=None, importance_type='gain',\n",
       "                                    interaction_constraints=None,\n",
       "                                    learning_rate=None, max_delta_step=None,\n",
       "                                    max_depth=6, min_child_weight=6,\n",
       "                                    missi...\n",
       "                                    objective='reg:squarederror',\n",
       "                                    random_state=None, reg_alpha=None,\n",
       "                                    reg_lambda=None, scale_pos_weight=None,\n",
       "                                    subsample=None, tree_method=None,\n",
       "                                    validate_parameters=False, verbosity=None),\n",
       "             iid='deprecated', n_jobs=None,\n",
       "             param_grid={'reg_alpha': [0.05, 0.1, 1, 2, 3],\n",
       "                         'reg_lambda': [0.05, 0.1, 1, 2, 3]},\n",
       "             pre_dispatch='2*n_jobs', refit=True, return_train_score=False,\n",
       "             scoring=None, verbose=0)"
      ]
     },
     "execution_count": 14,
     "metadata": {},
     "output_type": "execute_result"
    },
    {
     "name": "stdout",
     "output_type": "stream",
     "text": [
      "0.734011346492615\n",
      "{'reg_alpha': 3, 'reg_lambda': 3}\n"
     ]
    }
   ],
   "source": [
    "# Fifth round\n",
    "# alpha : L1 regularization   lambda: L2 regularization\n",
    "model = XGBRegressor(n_estimators=100, min_child_weight=6, \\\n",
    "                      max_depth=6, gamma=0.1)\n",
    "param = {'reg_alpha': [0.05, 0.1, 1, 2, 3], 'reg_lambda': [0.05, 0.1, 1, 2, 3]}\n",
    "gs = GridSearchCV(model, param, cv=KFold(n_splits=5))\n",
    "gs.fit(X_train, y_train)\n",
    "\n",
    "print(gs.best_score_)\n",
    "print(gs.best_params_)"
   ]
  },
  {
   "cell_type": "code",
   "execution_count": 15,
   "metadata": {},
   "outputs": [
    {
     "data": {
      "text/plain": [
       "GridSearchCV(cv=KFold(n_splits=5, random_state=None, shuffle=False),\n",
       "             error_score=nan,\n",
       "             estimator=XGBRegressor(base_score=None, booster=None,\n",
       "                                    colsample_bylevel=None,\n",
       "                                    colsample_bynode=None,\n",
       "                                    colsample_bytree=None, gamma=0.1,\n",
       "                                    gpu_id=None, importance_type='gain',\n",
       "                                    interaction_constraints=None,\n",
       "                                    learning_rate=None, max_delta_step=None,\n",
       "                                    max_depth=6, min_child_weight=6,\n",
       "                                    missi...\n",
       "                                    num_parallel_tree=None,\n",
       "                                    objective='reg:squarederror',\n",
       "                                    random_state=None, reg_alpha=3,\n",
       "                                    reg_lambda=3, scale_pos_weight=None,\n",
       "                                    subsample=None, tree_method=None,\n",
       "                                    validate_parameters=False, verbosity=None),\n",
       "             iid='deprecated', n_jobs=None,\n",
       "             param_grid={'learning_rate': [0.01, 0.05, 0.07, 0.1, 0.2]},\n",
       "             pre_dispatch='2*n_jobs', refit=True, return_train_score=False,\n",
       "             scoring=None, verbose=0)"
      ]
     },
     "execution_count": 15,
     "metadata": {},
     "output_type": "execute_result"
    },
    {
     "name": "stdout",
     "output_type": "stream",
     "text": [
      "0.7432710951487097\n",
      "{'learning_rate': 0.1}\n"
     ]
    }
   ],
   "source": [
    "# Sixth round\n",
    "model = XGBRegressor(n_estimators=100, min_child_weight=6, \\\n",
    "                      max_depth=6, gamma=0.1,\\\n",
    "                      reg_alpha=3, reg_lambda=3)\n",
    "param = {'learning_rate': [0.01, 0.05, 0.07, 0.1, 0.2]}\n",
    "gs = GridSearchCV(model, param, cv=KFold(n_splits=5))\n",
    "gs.fit(X_train, y_train)\n",
    "\n",
    "print(gs.best_score_)\n",
    "print(gs.best_params_)"
   ]
  },
  {
   "cell_type": "markdown",
   "metadata": {},
   "source": [
    "### Final Testing"
   ]
  },
  {
   "cell_type": "code",
   "execution_count": 16,
   "metadata": {},
   "outputs": [
    {
     "data": {
      "text/plain": [
       "XGBRegressor(base_score=0.5, booster=None, colsample_bylevel=1,\n",
       "             colsample_bynode=1, colsample_bytree=1, gamma=0.1, gpu_id=-1,\n",
       "             importance_type='gain', interaction_constraints=None,\n",
       "             learning_rate=0.1, max_delta_step=0, max_depth=6,\n",
       "             min_child_weight=6, missing=nan, monotone_constraints=None,\n",
       "             n_estimators=100, n_jobs=0, num_parallel_tree=1,\n",
       "             objective='reg:squarederror', random_state=0, reg_alpha=3,\n",
       "             reg_lambda=3, scale_pos_weight=1, subsample=1, tree_method=None,\n",
       "             validate_parameters=False, verbosity=None)"
      ]
     },
     "execution_count": 16,
     "metadata": {},
     "output_type": "execute_result"
    },
    {
     "name": "stdout",
     "output_type": "stream",
     "text": [
      "r2_score: 0.7834656261617299\n"
     ]
    }
   ],
   "source": [
    "# Final testing\n",
    "model = XGBRegressor(n_estimators=100, min_child_weight=6, \\\n",
    "                      max_depth=6, gamma=0.1,\\\n",
    "                      reg_alpha=3, reg_lambda=3,\\\n",
    "                      learning_rate=0.1)\n",
    "\n",
    "model.fit(X_train, y_train)\n",
    "prediction = model.predict(X_test)\n",
    "\n",
    "result=pd.DataFrame({'movie':testset['movie'] , 'label': y_test, 'prediction': [max(0,x) for x in prediction]})\n",
    "r2 = r2_score(y_test, prediction)\n",
    "print('r2_score: {}'.format(r2))"
   ]
  },
  {
   "cell_type": "code",
   "execution_count": 17,
   "metadata": {},
   "outputs": [
    {
     "data": {
      "text/html": [
       "<div>\n",
       "<style scoped>\n",
       "    .dataframe tbody tr th:only-of-type {\n",
       "        vertical-align: middle;\n",
       "    }\n",
       "\n",
       "    .dataframe tbody tr th {\n",
       "        vertical-align: top;\n",
       "    }\n",
       "\n",
       "    .dataframe thead th {\n",
       "        text-align: right;\n",
       "    }\n",
       "</style>\n",
       "<table border=\"1\" class=\"dataframe\">\n",
       "  <thead>\n",
       "    <tr style=\"text-align: right;\">\n",
       "      <th></th>\n",
       "      <th>movie</th>\n",
       "      <th>label</th>\n",
       "      <th>prediction</th>\n",
       "    </tr>\n",
       "  </thead>\n",
       "  <tbody>\n",
       "    <tr>\n",
       "      <th>4144</th>\n",
       "      <td>Dangal</td>\n",
       "      <td>12391761</td>\n",
       "      <td>0.000000e+00</td>\n",
       "    </tr>\n",
       "    <tr>\n",
       "      <th>2341</th>\n",
       "      <td>Tere Naal Love Ho Gaya</td>\n",
       "      <td>177472</td>\n",
       "      <td>9.006631e+05</td>\n",
       "    </tr>\n",
       "    <tr>\n",
       "      <th>708</th>\n",
       "      <td>Wake Up Sid</td>\n",
       "      <td>717977</td>\n",
       "      <td>9.288540e+05</td>\n",
       "    </tr>\n",
       "    <tr>\n",
       "      <th>4141</th>\n",
       "      <td>Miss Peregrine's Home for Peculiar Children</td>\n",
       "      <td>87242834</td>\n",
       "      <td>8.367474e+07</td>\n",
       "    </tr>\n",
       "    <tr>\n",
       "      <th>3516</th>\n",
       "      <td>3 Nights in the Desert</td>\n",
       "      <td>1279</td>\n",
       "      <td>9.434510e+05</td>\n",
       "    </tr>\n",
       "    <tr>\n",
       "      <th>...</th>\n",
       "      <td>...</td>\n",
       "      <td>...</td>\n",
       "      <td>...</td>\n",
       "    </tr>\n",
       "    <tr>\n",
       "      <th>2498</th>\n",
       "      <td>Greenwich Village: Music That Defined a Genera...</td>\n",
       "      <td>22560</td>\n",
       "      <td>6.236660e+04</td>\n",
       "    </tr>\n",
       "    <tr>\n",
       "      <th>1016</th>\n",
       "      <td>If I Die Tonight</td>\n",
       "      <td>20175</td>\n",
       "      <td>1.828866e+06</td>\n",
       "    </tr>\n",
       "    <tr>\n",
       "      <th>517</th>\n",
       "      <td>Jazz in the Diamond District</td>\n",
       "      <td>5107</td>\n",
       "      <td>1.093315e+06</td>\n",
       "    </tr>\n",
       "    <tr>\n",
       "      <th>4638</th>\n",
       "      <td>Guardians of the Galaxy Vol. 2</td>\n",
       "      <td>389813101</td>\n",
       "      <td>2.611124e+08</td>\n",
       "    </tr>\n",
       "    <tr>\n",
       "      <th>3556</th>\n",
       "      <td>Lambert &amp; Stamp</td>\n",
       "      <td>182851</td>\n",
       "      <td>7.956828e+05</td>\n",
       "    </tr>\n",
       "  </tbody>\n",
       "</table>\n",
       "<p>1785 rows × 3 columns</p>\n",
       "</div>"
      ],
      "text/plain": [
       "                                                  movie      label  \\\n",
       "4144                                             Dangal   12391761   \n",
       "2341                             Tere Naal Love Ho Gaya     177472   \n",
       "708                                         Wake Up Sid     717977   \n",
       "4141        Miss Peregrine's Home for Peculiar Children   87242834   \n",
       "3516                             3 Nights in the Desert       1279   \n",
       "...                                                 ...        ...   \n",
       "2498  Greenwich Village: Music That Defined a Genera...      22560   \n",
       "1016                                   If I Die Tonight      20175   \n",
       "517                        Jazz in the Diamond District       5107   \n",
       "4638                     Guardians of the Galaxy Vol. 2  389813101   \n",
       "3556                                    Lambert & Stamp     182851   \n",
       "\n",
       "        prediction  \n",
       "4144  0.000000e+00  \n",
       "2341  9.006631e+05  \n",
       "708   9.288540e+05  \n",
       "4141  8.367474e+07  \n",
       "3516  9.434510e+05  \n",
       "...            ...  \n",
       "2498  6.236660e+04  \n",
       "1016  1.828866e+06  \n",
       "517   1.093315e+06  \n",
       "4638  2.611124e+08  \n",
       "3556  7.956828e+05  \n",
       "\n",
       "[1785 rows x 3 columns]"
      ]
     },
     "execution_count": 17,
     "metadata": {},
     "output_type": "execute_result"
    }
   ],
   "source": [
    "result"
   ]
  },
  {
   "cell_type": "code",
   "execution_count": 19,
   "metadata": {},
   "outputs": [
    {
     "data": {
      "text/plain": [
       "<matplotlib.axes._subplots.AxesSubplot at 0x1f205cc3908>"
      ]
     },
     "execution_count": 19,
     "metadata": {},
     "output_type": "execute_result"
    },
    {
     "data": {
      "image/png": "[encoded data removed]",
      "text/plain": [
       "<Figure size 432x288 with 1 Axes>"
      ]
     },
     "metadata": {
      "needs_background": "light"
     },
     "output_type": "display_data"
    }
   ],
   "source": [
    "import xgboost as xgb\n",
    "xgb.plot_importance(model, max_num_features=15)"
   ]
  },
  {
   "cell_type": "markdown",
   "metadata": {},
   "source": [
    "### Save model"
   ]
  },
  {
   "cell_type": "code",
   "execution_count": 18,
   "metadata": {},
   "outputs": [
    {
     "name": "stderr",
     "output_type": "stream",
     "text": [
      "c:\\users\\asus\\appdata\\local\\programs\\python\\python37\\lib\\site-packages\\sklearn\\externals\\joblib\\__init__.py:15: FutureWarning: sklearn.externals.joblib is deprecated in 0.21 and will be removed in 0.23. Please import this functionality directly from joblib, which can be installed with: pip install joblib. If this warning is raised when loading pickled models, you may need to re-serialize those models with scikit-learn 0.21+.\n",
      "  warnings.warn(msg, category=FutureWarning)\n"
     ]
    },
    {
     "data": {
      "text/plain": [
       "['model.pkl']"
      ]
     },
     "execution_count": 18,
     "metadata": {},
     "output_type": "execute_result"
    }
   ],
   "source": [
    "from sklearn.externals import joblib\n",
    "joblib.dump(model, 'model.pkl')"
   ]
  },
  {
   "cell_type": "markdown",
   "metadata": {},
   "source": [
    "### Visualization"
   ]
  },
  {
   "cell_type": "code",
   "execution_count": 20,
   "metadata": {},
   "outputs": [
    {
     "name": "stdout",
     "output_type": "stream",
     "text": [
      "[0]\tvalidation_0-mae:20232956.00000\tvalidation_1-mae:18435238.00000\n",
      "Multiple eval metrics have been passed: 'validation_1-mae' will be used for early stopping.\n",
      "\n",
      "Will train until validation_1-mae hasn't improved in 10 rounds.\n",
      "[1]\tvalidation_0-mae:18624074.00000\tvalidation_1-mae:17082974.00000\n",
      "[2]\tvalidation_0-mae:17253784.00000\tvalidation_1-mae:15923191.00000\n",
      "[3]\tvalidation_0-mae:16091492.00000\tvalidation_1-mae:15035745.00000\n",
      "[4]\tvalidation_0-mae:15127034.00000\tvalidation_1-mae:14239807.00000\n",
      "[5]\tvalidation_0-mae:14323577.00000\tvalidation_1-mae:13686139.00000\n",
      "[6]\tvalidation_0-mae:13600418.00000\tvalidation_1-mae:13157965.00000\n",
      "[7]\tvalidation_0-mae:12959276.00000\tvalidation_1-mae:12726560.00000\n",
      "[8]\tvalidation_0-mae:12436859.00000\tvalidation_1-mae:12324779.00000\n",
      "[9]\tvalidation_0-mae:12021793.00000\tvalidation_1-mae:12087930.00000\n",
      "[10]\tvalidation_0-mae:11666433.00000\tvalidation_1-mae:11838491.00000\n",
      "[11]\tvalidation_0-mae:11279172.00000\tvalidation_1-mae:11662983.00000\n",
      "[12]\tvalidation_0-mae:10962891.00000\tvalidation_1-mae:11518743.00000\n",
      "[13]\tvalidation_0-mae:10686216.00000\tvalidation_1-mae:11366847.00000\n",
      "[14]\tvalidation_0-mae:10440599.00000\tvalidation_1-mae:11245331.00000\n",
      "[15]\tvalidation_0-mae:10203676.00000\tvalidation_1-mae:11140385.00000\n",
      "[16]\tvalidation_0-mae:10007804.00000\tvalidation_1-mae:11060893.00000\n",
      "[17]\tvalidation_0-mae:9836474.00000\tvalidation_1-mae:10986288.00000\n",
      "[18]\tvalidation_0-mae:9675052.00000\tvalidation_1-mae:10932705.00000\n",
      "[19]\tvalidation_0-mae:9524357.00000\tvalidation_1-mae:10886873.00000\n",
      "[20]\tvalidation_0-mae:9399709.00000\tvalidation_1-mae:10849702.00000\n",
      "[21]\tvalidation_0-mae:9265213.00000\tvalidation_1-mae:10796880.00000\n",
      "[22]\tvalidation_0-mae:9168382.00000\tvalidation_1-mae:10786567.00000\n",
      "[23]\tvalidation_0-mae:9059488.00000\tvalidation_1-mae:10751372.00000\n",
      "[24]\tvalidation_0-mae:8978933.00000\tvalidation_1-mae:10746359.00000\n",
      "[25]\tvalidation_0-mae:8907801.00000\tvalidation_1-mae:10729769.00000\n",
      "[26]\tvalidation_0-mae:8859117.00000\tvalidation_1-mae:10704850.00000\n",
      "[27]\tvalidation_0-mae:8813415.00000\tvalidation_1-mae:10708563.00000\n",
      "[28]\tvalidation_0-mae:8763437.00000\tvalidation_1-mae:10692745.00000\n",
      "[29]\tvalidation_0-mae:8724838.00000\tvalidation_1-mae:10687709.00000\n",
      "[30]\tvalidation_0-mae:8689909.00000\tvalidation_1-mae:10691301.00000\n",
      "[31]\tvalidation_0-mae:8659083.00000\tvalidation_1-mae:10710528.00000\n",
      "[32]\tvalidation_0-mae:8639521.00000\tvalidation_1-mae:10726287.00000\n",
      "[33]\tvalidation_0-mae:8633459.00000\tvalidation_1-mae:10750497.00000\n",
      "[34]\tvalidation_0-mae:8577125.00000\tvalidation_1-mae:10727205.00000\n",
      "[35]\tvalidation_0-mae:8557737.00000\tvalidation_1-mae:10718355.00000\n",
      "[36]\tvalidation_0-mae:8539222.00000\tvalidation_1-mae:10715898.00000\n",
      "[37]\tvalidation_0-mae:8488922.00000\tvalidation_1-mae:10700826.00000\n",
      "[38]\tvalidation_0-mae:8467711.00000\tvalidation_1-mae:10721981.00000\n",
      "[39]\tvalidation_0-mae:8439933.00000\tvalidation_1-mae:10734706.00000\n",
      "Stopping. Best iteration:\n",
      "[29]\tvalidation_0-mae:8724838.00000\tvalidation_1-mae:10687709.00000\n",
      "\n"
     ]
    },
    {
     "data": {
      "text/plain": [
       "XGBRegressor(base_score=0.5, booster=None, colsample_bylevel=1,\n",
       "             colsample_bynode=1, colsample_bytree=1, gamma=0.1, gpu_id=-1,\n",
       "             importance_type='gain', interaction_constraints=None,\n",
       "             learning_rate=0.1, max_delta_step=0, max_depth=6,\n",
       "             min_child_weight=6, missing=nan, monotone_constraints=None,\n",
       "             n_estimators=100, n_jobs=0, num_parallel_tree=1,\n",
       "             objective='reg:squarederror', random_state=0, reg_alpha=3,\n",
       "             reg_lambda=3, scale_pos_weight=1, subsample=1, tree_method=None,\n",
       "             validate_parameters=False, verbosity=None)"
      ]
     },
     "execution_count": 20,
     "metadata": {},
     "output_type": "execute_result"
    }
   ],
   "source": [
    "model = XGBRegressor(n_estimators=100, min_child_weight=6, \\\n",
    "                      max_depth=6, gamma=0.1,\\\n",
    "                      reg_alpha=3, reg_lambda=3,\\\n",
    "                      learning_rate=0.1)\n",
    "\n",
    "eval_set = [(X_train, y_train), (X_test, y_test)]\n",
    "model.fit(X_train, y_train, eval_metric='mae', eval_set=eval_set, verbose=True, early_stopping_rounds=10)"
   ]
  },
  {
   "cell_type": "code",
   "execution_count": 21,
   "metadata": {},
   "outputs": [],
   "source": [
    "results = model.evals_result()"
   ]
  },
  {
   "cell_type": "code",
   "execution_count": 22,
   "metadata": {},
   "outputs": [],
   "source": [
    "epochs = len(results['validation_0']['mae'])"
   ]
  },
  {
   "cell_type": "code",
   "execution_count": 23,
   "metadata": {},
   "outputs": [
    {
     "data": {
      "text/plain": [
       "[<matplotlib.lines.Line2D at 0x1f20cf36fc8>]"
      ]
     },
     "execution_count": 23,
     "metadata": {},
     "output_type": "execute_result"
    },
    {
     "data": {
      "text/plain": [
       "[<matplotlib.lines.Line2D at 0x1f20cf32548>]"
      ]
     },
     "execution_count": 23,
     "metadata": {},
     "output_type": "execute_result"
    },
    {
     "data": {
      "text/plain": [
       "<matplotlib.legend.Legend at 0x1f20cf3ae88>"
      ]
     },
     "execution_count": 23,
     "metadata": {},
     "output_type": "execute_result"
    },
    {
     "data": {
      "text/plain": [
       "Text(0, 0.5, 'Regression Error')"
      ]
     },
     "execution_count": 23,
     "metadata": {},
     "output_type": "execute_result"
    },
    {
     "data": {
      "text/plain": [
       "Text(0.5, 1.0, 'XGBoost Regression Error')"
      ]
     },
     "execution_count": 23,
     "metadata": {},
     "output_type": "execute_result"
    },
    {
     "data": {
      "image/png": "[encoded data removed]",
      "text/plain": [
       "<Figure size 432x288 with 1 Axes>"
      ]
     },
     "metadata": {
      "needs_background": "light"
     },
     "output_type": "display_data"
    }
   ],
   "source": [
    "x_axis = range(0, epochs)\n",
    "\n",
    "fig, ax = plt.subplots()\n",
    "ax.plot(x_axis, results['validation_0']['mae'], label='Train')\n",
    "ax.plot(x_axis, results['validation_1']['mae'], label='Test')\n",
    "ax.legend()\n",
    "plt.ylabel('Regression Error')\n",
    "plt.title('XGBoost Regression Error')\n",
    "plt.show()"
   ]
  },
  {
   "cell_type": "code",
   "execution_count": null,
   "metadata": {},
   "outputs": [],
   "source": []
  }
 ],
 "metadata": {
  "kernelspec": {
   "display_name": "Python 3",
   "language": "python",
   "name": "python3"
  },
  "language_info": {
   "codemirror_mode": {
    "name": "ipython",
    "version": 3
   },
   "file_extension": ".py",
   "mimetype": "text/x-python",
   "name": "python",
   "nbconvert_exporter": "python",
   "pygments_lexer": "ipython3",
   "version": "3.7.6"
  }
 },
 "nbformat": 4,
 "nbformat_minor": 4
}
